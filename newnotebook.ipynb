{
 "cells": [
  {
   "cell_type": "code",
   "execution_count": 1,
   "id": "38d5576f-ed32-4d18-9fcd-58aea2cb95eb",
   "metadata": {
    "tags": []
   },
   "outputs": [],
   "source": [
    "import librosa\n",
    "import os\n",
    "import pandas as pd"
   ]
  },
  {
   "cell_type": "code",
   "execution_count": 2,
   "id": "087038a5-f17d-42c2-b3b1-e15ef0903f44",
   "metadata": {
    "tags": []
   },
   "outputs": [],
   "source": [
    "SAVEE = './dataset/ALL/'\n",
    "dir_list = os.listdir(SAVEE)"
   ]
  },
  {
   "cell_type": "code",
   "execution_count": 3,
   "id": "1a6d255f-044c-4cf5-9940-3a5d26f24c41",
   "metadata": {
    "tags": []
   },
   "outputs": [],
   "source": [
    "emotion=[]\n",
    "path = []\n",
    "for i in dir_list:\n",
    "    if i[-8:-6]=='_a':\n",
    "        emotion.append('angry')\n",
    "    elif i[-8:-6]=='_d':\n",
    "        emotion.append('disgust')\n",
    "    elif i[-8:-6]=='_f':\n",
    "        emotion.append('fear')\n",
    "    elif i[-8:-6]=='_h':\n",
    "        emotion.append('happy')\n",
    "    elif i[-8:-6]=='_n':\n",
    "        emotion.append('neutral')\n",
    "    elif i[-8:-6]=='sa':\n",
    "        emotion.append('sad')\n",
    "    elif i[-8:-6]=='su':\n",
    "        emotion.append('surprise')\n",
    "    else:\n",
    "        emotion.append('unknown') \n",
    "    path.append(SAVEE + i)"
   ]
  },
  {
   "cell_type": "code",
   "execution_count": 4,
   "id": "0b4e9175-8cd9-4575-b151-74053ea8543d",
   "metadata": {
    "tags": []
   },
   "outputs": [
    {
     "name": "stdout",
     "output_type": "stream",
     "text": [
      "SAVEE dataset\n"
     ]
    },
    {
     "data": {
      "text/html": [
       "<div>\n",
       "<style scoped>\n",
       "    .dataframe tbody tr th:only-of-type {\n",
       "        vertical-align: middle;\n",
       "    }\n",
       "\n",
       "    .dataframe tbody tr th {\n",
       "        vertical-align: top;\n",
       "    }\n",
       "\n",
       "    .dataframe thead th {\n",
       "        text-align: right;\n",
       "    }\n",
       "</style>\n",
       "<table border=\"1\" class=\"dataframe\">\n",
       "  <thead>\n",
       "    <tr style=\"text-align: right;\">\n",
       "      <th></th>\n",
       "      <th>labels</th>\n",
       "      <th>path</th>\n",
       "    </tr>\n",
       "  </thead>\n",
       "  <tbody>\n",
       "    <tr>\n",
       "      <th>0</th>\n",
       "      <td>angry</td>\n",
       "      <td>./dataset/ALL/DC_a01.wav</td>\n",
       "    </tr>\n",
       "    <tr>\n",
       "      <th>1</th>\n",
       "      <td>angry</td>\n",
       "      <td>./dataset/ALL/DC_a02.wav</td>\n",
       "    </tr>\n",
       "    <tr>\n",
       "      <th>2</th>\n",
       "      <td>angry</td>\n",
       "      <td>./dataset/ALL/DC_a03.wav</td>\n",
       "    </tr>\n",
       "    <tr>\n",
       "      <th>3</th>\n",
       "      <td>angry</td>\n",
       "      <td>./dataset/ALL/DC_a04.wav</td>\n",
       "    </tr>\n",
       "    <tr>\n",
       "      <th>4</th>\n",
       "      <td>angry</td>\n",
       "      <td>./dataset/ALL/DC_a05.wav</td>\n",
       "    </tr>\n",
       "  </tbody>\n",
       "</table>\n",
       "</div>"
      ],
      "text/plain": [
       "  labels                      path\n",
       "0  angry  ./dataset/ALL/DC_a01.wav\n",
       "1  angry  ./dataset/ALL/DC_a02.wav\n",
       "2  angry  ./dataset/ALL/DC_a03.wav\n",
       "3  angry  ./dataset/ALL/DC_a04.wav\n",
       "4  angry  ./dataset/ALL/DC_a05.wav"
      ]
     },
     "execution_count": 4,
     "metadata": {},
     "output_type": "execute_result"
    }
   ],
   "source": [
    "SAVEE_df = pd.DataFrame(emotion, columns = ['labels'])\n",
    "SAVEE_df = pd.concat([SAVEE_df, pd.DataFrame(path, columns = ['path'])], axis = 1)\n",
    "print('SAVEE dataset')\n",
    "SAVEE_df.head()"
   ]
  },
  {
   "cell_type": "code",
   "execution_count": 5,
   "id": "775c037f-d654-48c0-9c29-4ca7a03713c5",
   "metadata": {
    "tags": []
   },
   "outputs": [],
   "source": [
    "TESS = './dataset/TESS Toronto emotional speech set data/'"
   ]
  },
  {
   "cell_type": "code",
   "execution_count": 6,
   "id": "2b4f3eef-0469-4c5c-a288-e26fd769b7b8",
   "metadata": {
    "tags": []
   },
   "outputs": [],
   "source": [
    "path = []\n",
    "emotion = []\n",
    "dir_list = os.listdir(TESS)\n",
    "\n",
    "for i in dir_list:\n",
    "    fname = os.listdir(TESS + i)   \n",
    "    for f in fname:\n",
    "        if i == 'OAF_angry' or i == 'YAF_angry':\n",
    "            emotion.append('angry')\n",
    "        elif i == 'OAF_disgust' or i == 'YAF_disgust':\n",
    "            emotion.append('disgust')\n",
    "        elif i == 'OAF_Fear' or i == 'YAF_fear':\n",
    "            emotion.append('fear')\n",
    "        elif i == 'OAF_happy' or i == 'YAF_happy':\n",
    "            emotion.append('happy')\n",
    "        elif i == 'OAF_neutral' or i == 'YAF_neutral':\n",
    "            emotion.append('neutral')                                \n",
    "        elif i == 'OAF_Pleasant_surprise' or i == 'YAF_pleasant_surprised':\n",
    "            emotion.append('surprise')               \n",
    "        elif i == 'OAF_Sad' or i == 'YAF_sad':\n",
    "            emotion.append('sad')\n",
    "        else:\n",
    "            emotion.append('Unknown')\n",
    "        path.append(TESS + i + \"/\" + f)"
   ]
  },
  {
   "cell_type": "code",
   "execution_count": 7,
   "id": "440818c2-e1a5-433d-8dee-5b42e497dae0",
   "metadata": {
    "tags": []
   },
   "outputs": [
    {
     "name": "stdout",
     "output_type": "stream",
     "text": [
      "TESS dataset\n"
     ]
    },
    {
     "data": {
      "text/html": [
       "<div>\n",
       "<style scoped>\n",
       "    .dataframe tbody tr th:only-of-type {\n",
       "        vertical-align: middle;\n",
       "    }\n",
       "\n",
       "    .dataframe tbody tr th {\n",
       "        vertical-align: top;\n",
       "    }\n",
       "\n",
       "    .dataframe thead th {\n",
       "        text-align: right;\n",
       "    }\n",
       "</style>\n",
       "<table border=\"1\" class=\"dataframe\">\n",
       "  <thead>\n",
       "    <tr style=\"text-align: right;\">\n",
       "      <th></th>\n",
       "      <th>labels</th>\n",
       "      <th>path</th>\n",
       "    </tr>\n",
       "  </thead>\n",
       "  <tbody>\n",
       "    <tr>\n",
       "      <th>0</th>\n",
       "      <td>angry</td>\n",
       "      <td>./dataset/TESS Toronto emotional speech set da...</td>\n",
       "    </tr>\n",
       "    <tr>\n",
       "      <th>1</th>\n",
       "      <td>angry</td>\n",
       "      <td>./dataset/TESS Toronto emotional speech set da...</td>\n",
       "    </tr>\n",
       "    <tr>\n",
       "      <th>2</th>\n",
       "      <td>angry</td>\n",
       "      <td>./dataset/TESS Toronto emotional speech set da...</td>\n",
       "    </tr>\n",
       "    <tr>\n",
       "      <th>3</th>\n",
       "      <td>angry</td>\n",
       "      <td>./dataset/TESS Toronto emotional speech set da...</td>\n",
       "    </tr>\n",
       "    <tr>\n",
       "      <th>4</th>\n",
       "      <td>angry</td>\n",
       "      <td>./dataset/TESS Toronto emotional speech set da...</td>\n",
       "    </tr>\n",
       "  </tbody>\n",
       "</table>\n",
       "</div>"
      ],
      "text/plain": [
       "  labels                                               path\n",
       "0  angry  ./dataset/TESS Toronto emotional speech set da...\n",
       "1  angry  ./dataset/TESS Toronto emotional speech set da...\n",
       "2  angry  ./dataset/TESS Toronto emotional speech set da...\n",
       "3  angry  ./dataset/TESS Toronto emotional speech set da...\n",
       "4  angry  ./dataset/TESS Toronto emotional speech set da..."
      ]
     },
     "execution_count": 7,
     "metadata": {},
     "output_type": "execute_result"
    }
   ],
   "source": [
    "TESS_df = pd.DataFrame(emotion, columns = ['labels'])\n",
    "#TESS_df['source'] = 'TESS'\n",
    "TESS_df = pd.concat([TESS_df,pd.DataFrame(path, columns = ['path'])],axis=1)\n",
    "print('TESS dataset')\n",
    "TESS_df.head()"
   ]
  },
  {
   "cell_type": "code",
   "execution_count": 8,
   "id": "8fd76a3a-7ee7-468d-a689-523376f15e2f",
   "metadata": {
    "tags": []
   },
   "outputs": [],
   "source": [
    "# Now lets merge all the dataframe\n",
    "Males = pd.concat([SAVEE_df], axis = 0)\n",
    "Males.to_csv(\"males_emotions_df.csv\", index = False)\n",
    "\n",
    "Females = pd.concat([TESS_df], axis = 0)\n",
    "Females.to_csv(\"females_emotions_df.csv\", index = False)"
   ]
  },
  {
   "cell_type": "code",
   "execution_count": 9,
   "id": "21c49883-de70-44a1-9fe9-8a8bdae1ad00",
   "metadata": {
    "tags": []
   },
   "outputs": [],
   "source": [
    "comb = [Males,Females]\n",
    "Dataset=pd.concat(comb)\n",
    "Dataset=Dataset.sort_values(by=['labels'])\n",
    "Dataset.to_csv(\"Dataset_df.csv\", index = False)"
   ]
  },
  {
   "cell_type": "code",
   "execution_count": null,
   "id": "a25317d2-4b53-4e01-89ed-a8153d942067",
   "metadata": {},
   "outputs": [],
   "source": []
  }
 ],
 "metadata": {
  "kernelspec": {
   "display_name": "Python 3 (ipykernel)",
   "language": "python",
   "name": "python3"
  },
  "language_info": {
   "codemirror_mode": {
    "name": "ipython",
    "version": 3
   },
   "file_extension": ".py",
   "mimetype": "text/x-python",
   "name": "python",
   "nbconvert_exporter": "python",
   "pygments_lexer": "ipython3",
   "version": "3.11.4"
  }
 },
 "nbformat": 4,
 "nbformat_minor": 5
}
