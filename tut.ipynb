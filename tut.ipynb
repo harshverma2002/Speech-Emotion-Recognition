{
 "cells": [
  {
   "cell_type": "code",
   "execution_count": 1,
   "id": "afaa0113-c427-4207-ba0d-4614c49fa96a",
   "metadata": {
    "collapsed": true,
    "jupyter": {
     "outputs_hidden": true
    },
    "scrolled": true,
    "tags": []
   },
   "outputs": [
    {
     "name": "stdout",
     "output_type": "stream",
     "text": [
      "Collecting librosaNote: you may need to restart the kernel to use updated packages.\n",
      "\n",
      "  Obtaining dependency information for librosa from https://files.pythonhosted.org/packages/e2/a2/4f639c1168d7aada749a896afb4892a831e2041bebdcf636aebfe9e86556/librosa-0.10.1-py3-none-any.whl.metadata\n",
      "  Using cached librosa-0.10.1-py3-none-any.whl.metadata (8.3 kB)\n",
      "Collecting audioread>=2.1.9 (from librosa)\n",
      "  Obtaining dependency information for audioread>=2.1.9 from https://files.pythonhosted.org/packages/57/8d/30aa32745af16af0a9a650115fbe81bde7c610ed5c21b381fca0196f3a7f/audioread-3.0.1-py3-none-any.whl.metadata\n",
      "  Downloading audioread-3.0.1-py3-none-any.whl.metadata (8.4 kB)\n",
      "Requirement already satisfied: numpy!=1.22.0,!=1.22.1,!=1.22.2,>=1.20.3 in c:\\users\\harsh\\anaconda3\\lib\\site-packages (from librosa) (1.24.3)\n",
      "Requirement already satisfied: scipy>=1.2.0 in c:\\users\\harsh\\anaconda3\\lib\\site-packages (from librosa) (1.10.1)\n",
      "Requirement already satisfied: scikit-learn>=0.20.0 in c:\\users\\harsh\\anaconda3\\lib\\site-packages (from librosa) (1.3.0)\n",
      "Requirement already satisfied: joblib>=0.14 in c:\\users\\harsh\\anaconda3\\lib\\site-packages (from librosa) (1.2.0)\n",
      "Requirement already satisfied: decorator>=4.3.0 in c:\\users\\harsh\\anaconda3\\lib\\site-packages (from librosa) (5.1.1)\n",
      "Requirement already satisfied: numba>=0.51.0 in c:\\users\\harsh\\anaconda3\\lib\\site-packages (from librosa) (0.57.0)\n",
      "Collecting soundfile>=0.12.1 (from librosa)\n",
      "  Using cached soundfile-0.12.1-py2.py3-none-win_amd64.whl (1.0 MB)\n",
      "Requirement already satisfied: pooch>=1.0 in c:\\users\\harsh\\anaconda3\\lib\\site-packages (from librosa) (1.4.0)\n",
      "Collecting soxr>=0.3.2 (from librosa)\n",
      "  Obtaining dependency information for soxr>=0.3.2 from https://files.pythonhosted.org/packages/3a/29/cd396aefb3a07e62b10c01ea9963d66a29a7516dacc7a5dfaaa02cec2da7/soxr-0.3.6-cp311-cp311-win_amd64.whl.metadata\n",
      "  Downloading soxr-0.3.6-cp311-cp311-win_amd64.whl.metadata (5.5 kB)\n",
      "Requirement already satisfied: typing-extensions>=4.1.1 in c:\\users\\harsh\\anaconda3\\lib\\site-packages (from librosa) (4.7.1)\n",
      "Requirement already satisfied: lazy-loader>=0.1 in c:\\users\\harsh\\anaconda3\\lib\\site-packages (from librosa) (0.2)\n",
      "Requirement already satisfied: msgpack>=1.0 in c:\\users\\harsh\\anaconda3\\lib\\site-packages (from librosa) (1.0.3)\n",
      "Requirement already satisfied: llvmlite<0.41,>=0.40.0dev0 in c:\\users\\harsh\\anaconda3\\lib\\site-packages (from numba>=0.51.0->librosa) (0.40.0)\n",
      "Requirement already satisfied: requests in c:\\users\\harsh\\anaconda3\\lib\\site-packages (from pooch>=1.0->librosa) (2.31.0)\n",
      "Requirement already satisfied: packaging in c:\\users\\harsh\\anaconda3\\lib\\site-packages (from pooch>=1.0->librosa) (23.0)\n",
      "Requirement already satisfied: appdirs in c:\\users\\harsh\\anaconda3\\lib\\site-packages (from pooch>=1.0->librosa) (1.4.4)\n",
      "Requirement already satisfied: threadpoolctl>=2.0.0 in c:\\users\\harsh\\anaconda3\\lib\\site-packages (from scikit-learn>=0.20.0->librosa) (2.2.0)\n",
      "Requirement already satisfied: cffi>=1.0 in c:\\users\\harsh\\anaconda3\\lib\\site-packages (from soundfile>=0.12.1->librosa) (1.15.1)\n",
      "Requirement already satisfied: pycparser in c:\\users\\harsh\\anaconda3\\lib\\site-packages (from cffi>=1.0->soundfile>=0.12.1->librosa) (2.21)\n",
      "Requirement already satisfied: charset-normalizer<4,>=2 in c:\\users\\harsh\\anaconda3\\lib\\site-packages (from requests->pooch>=1.0->librosa) (2.0.4)\n",
      "Requirement already satisfied: idna<4,>=2.5 in c:\\users\\harsh\\anaconda3\\lib\\site-packages (from requests->pooch>=1.0->librosa) (3.4)\n",
      "Requirement already satisfied: urllib3<3,>=1.21.1 in c:\\users\\harsh\\anaconda3\\lib\\site-packages (from requests->pooch>=1.0->librosa) (1.26.16)\n",
      "Requirement already satisfied: certifi>=2017.4.17 in c:\\users\\harsh\\anaconda3\\lib\\site-packages (from requests->pooch>=1.0->librosa) (2023.7.22)\n",
      "Using cached librosa-0.10.1-py3-none-any.whl (253 kB)\n",
      "Downloading audioread-3.0.1-py3-none-any.whl (23 kB)\n",
      "Downloading soxr-0.3.6-cp311-cp311-win_amd64.whl (185 kB)\n",
      "   ---------------------------------------- 0.0/185.1 kB ? eta -:--:--\n",
      "   -------------------------- ------------- 122.9/185.1 kB 3.5 MB/s eta 0:00:01\n",
      "   ---------------------------------------- 185.1/185.1 kB 3.7 MB/s eta 0:00:00\n",
      "Installing collected packages: soxr, audioread, soundfile, librosa\n",
      "Successfully installed audioread-3.0.1 librosa-0.10.1 soundfile-0.12.1 soxr-0.3.6\n"
     ]
    }
   ],
   "source": [
    "pip install librosa"
   ]
  },
  {
   "cell_type": "code",
   "execution_count": null,
   "id": "6db12e28",
   "metadata": {},
   "outputs": [],
   "source": []
  },
  {
   "cell_type": "code",
   "execution_count": 16,
   "id": "be977255-5087-4275-9132-b50fdb3b7d47",
   "metadata": {
    "tags": []
   },
   "outputs": [],
   "source": [
    "import matplotlib.pyplot as plt\n",
    "%matplotlib inline"
   ]
  },
  {
   "cell_type": "code",
   "execution_count": 19,
   "id": "a73680bf-a424-45cb-bf3d-c4d50272712b",
   "metadata": {
    "tags": []
   },
   "outputs": [],
   "source": [
    "filename = 'YAF_bite_ps.wav'"
   ]
  },
  {
   "cell_type": "code",
   "execution_count": 18,
   "id": "8ddc4e72-bd0c-42fa-a847-c2412191ff94",
   "metadata": {
    "tags": []
   },
   "outputs": [],
   "source": [
    "import IPython.display as ipd\n",
    "import librosa \n",
    "import librosa.display"
   ]
  },
  {
   "cell_type": "code",
   "execution_count": 20,
   "id": "119bc1bf-98eb-4854-9d11-ae6f7b0c1e61",
   "metadata": {
    "tags": []
   },
   "outputs": [
    {
     "data": {
      "text/html": [
       "\n",
       "                <audio  controls=\"controls\" >\n",
       "                    <source src=\"data:audio/wav;base64,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\" type=\"audio/wav\" />\n",
       "                    Your browser does not support the audio element.\n",
       "                </audio>\n",
       "              "
      ],
      "text/plain": [
       "<IPython.lib.display.Audio object>"
      ]
     },
     "execution_count": 20,
     "metadata": {},
     "output_type": "execute_result"
    },
    {
     "data": {
      "image/png": "[encoded data removed]",
      "text/plain": [
       "<Figure size 1400x500 with 1 Axes>"
      ]
     },
     "metadata": {},
     "output_type": "display_data"
    }
   ],
   "source": [
    "plt.figure(figsize=(14,5))\n",
    "data,sample_rate=librosa.load(filename)\n",
    "librosa.display.waveshow(data,sr=sample_rate)\n",
    "ipd.Audio(filename)"
   ]
  },
  {
   "cell_type": "code",
   "execution_count": 6,
   "id": "9ccf90e3-1425-47f9-95b8-4b87d4fe63ca",
   "metadata": {
    "tags": []
   },
   "outputs": [
    {
     "data": {
      "text/plain": [
       "22050"
      ]
     },
     "execution_count": 6,
     "metadata": {},
     "output_type": "execute_result"
    }
   ],
   "source": [
    "sample_rate"
   ]
  },
  {
   "cell_type": "raw",
   "id": "d756ee74-b3ae-4b45-a072-66bd86ec67c5",
   "metadata": {},
   "source": [
    "Librosa reads all audio files with same sampling rate"
   ]
  },
  {
   "cell_type": "code",
   "execution_count": 7,
   "id": "4c3cdabd-7cf6-40dd-baa0-9929d4ee7bcc",
   "metadata": {
    "tags": []
   },
   "outputs": [
    {
     "data": {
      "text/plain": [
       "array([ 2.8813604e-04, -7.0450979e-04, -1.6421836e-03, ...,\n",
       "       -5.5960398e-05, -5.2392861e-06,  0.0000000e+00], dtype=float32)"
      ]
     },
     "execution_count": 7,
     "metadata": {},
     "output_type": "execute_result"
    }
   ],
   "source": [
    "data\n",
    "# it normalised all the values between a specific range which makes it \n",
    "# easier to find patterns across different samples\n",
    "# it combines mono and stereo to mono"
   ]
  },
  {
   "cell_type": "raw",
   "id": "b860d94a-ae5e-4499-adf6-824ef8bc21f7",
   "metadata": {},
   "source": [
    "mono: equal sounds from both sides\n",
    "stereo : different sounds form both side"
   ]
  },
  {
   "cell_type": "code",
   "execution_count": 8,
   "id": "408d59e2-5b38-4a2e-ad5f-2fbed4aa61b4",
   "metadata": {
    "tags": []
   },
   "outputs": [],
   "source": [
    "from scipy.io import wavfile as wav\n",
    "wave_sample_rate,wave_audio=wav.read(filename)"
   ]
  },
  {
   "cell_type": "code",
   "execution_count": 9,
   "id": "b9f7a197-3e75-47fc-b35c-d3163fcc9f81",
   "metadata": {
    "tags": []
   },
   "outputs": [
    {
     "data": {
      "text/plain": [
       "24414"
      ]
     },
     "execution_count": 9,
     "metadata": {},
     "output_type": "execute_result"
    }
   ],
   "source": [
    "wave_sample_rate"
   ]
  },
  {
   "cell_type": "raw",
   "id": "131ab780-3b50-4303-af80-763f7b9911fe",
   "metadata": {},
   "source": [
    "scipy returns the actual sample rate"
   ]
  },
  {
   "cell_type": "code",
   "execution_count": 10,
   "id": "cadfe8ff-9a91-4af2-af11-a0d0c256f887",
   "metadata": {
    "tags": []
   },
   "outputs": [
    {
     "data": {
      "text/plain": [
       "array([ 10, -18, -52, ...,  -3,  -1,   2], dtype=int16)"
      ]
     },
     "execution_count": 10,
     "metadata": {},
     "output_type": "execute_result"
    }
   ],
   "source": [
    "wave_audio \n",
    "# values are not normalised and are actual values on which combined\n",
    "# will result in the signal"
   ]
  },
  {
   "cell_type": "code",
   "execution_count": 50,
   "id": "9b57fbd7-c5c3-4af7-b319-85ec1af7efa9",
   "metadata": {
    "tags": []
   },
   "outputs": [
    {
     "data": {
      "text/plain": [
       "[<matplotlib.lines.Line2D at 0x219c0c67100>]"
      ]
     },
     "execution_count": 50,
     "metadata": {},
     "output_type": "execute_result"
    },
    {
     "data": {
      "image/png": "[encoded data removed]",
      "text/plain": [
       "<Figure size 1200x400 with 1 Axes>"
      ]
     },
     "metadata": {},
     "output_type": "display_data"
    }
   ],
   "source": [
    "plt.figure(figsize=(12,4))\n",
    "plt.plot(wave_audio)"
   ]
  },
  {
   "cell_type": "code",
   "execution_count": 1,
   "id": "60c8d2cc-ae19-4f74-bb34-7e8d71ba5e4b",
   "metadata": {
    "tags": []
   },
   "outputs": [],
   "source": [
    "import os"
   ]
  },
  {
   "cell_type": "code",
   "execution_count": 2,
   "id": "ad85fb5c-20f0-4edb-88ac-6907fea20c0b",
   "metadata": {},
   "outputs": [
    {
     "data": {
      "text/plain": [
       "'DC_a06.wav'"
      ]
     },
     "execution_count": 2,
     "metadata": {},
     "output_type": "execute_result"
    }
   ],
   "source": [
    "SAVEE = './dataset/ALL/'\n",
    "dir_list = os.listdir(SAVEE)\n",
    "dir_list[5]"
   ]
  },
  {
   "cell_type": "code",
   "execution_count": 14,
   "id": "565a64dc-8c31-40ec-af9c-9b4854645bc8",
   "metadata": {
    "tags": []
   },
   "outputs": [
    {
     "data": {
      "text/plain": [
       "'_a'"
      ]
     },
     "execution_count": 14,
     "metadata": {},
     "output_type": "execute_result"
    }
   ],
   "source": [
    "dir_list[5][-8:-6]"
   ]
  },
  {
   "cell_type": "code",
   "execution_count": 3,
   "id": "b245e55c-bb92-4369-95ec-53645ebe4de5",
   "metadata": {
    "tags": []
   },
   "outputs": [],
   "source": [
    "emotion=[]\n",
    "path = []\n",
    "for i in dir_list:\n",
    "    if i[-8:-6]=='_a':\n",
    "        emotion.append('angry')\n",
    "    elif i[-8:-6]=='_d':\n",
    "        emotion.append('disgust')\n",
    "    elif i[-8:-6]=='_f':\n",
    "        emotion.append('fear')\n",
    "    elif i[-8:-6]=='_h':\n",
    "        emotion.append('happy')\n",
    "    elif i[-8:-6]=='_n':\n",
    "        emotion.append('neutral')\n",
    "    elif i[-8:-6]=='sa':\n",
    "        emotion.append('sad')\n",
    "    elif i[-8:-6]=='su':\n",
    "        emotion.append('surprise')\n",
    "    else:\n",
    "        emotion.append('unknown') \n",
    "    path.append(SAVEE + i)"
   ]
  },
  {
   "cell_type": "code",
   "execution_count": 4,
   "id": "2cf4e4fc-d4b9-491a-b610-cc991acf22e5",
   "metadata": {
    "tags": []
   },
   "outputs": [],
   "source": [
    "import pandas as pd"
   ]
  },
  {
   "cell_type": "code",
   "execution_count": 5,
   "id": "796ddd60-ccf1-4619-bef8-844d96b154aa",
   "metadata": {
    "tags": []
   },
   "outputs": [
    {
     "name": "stdout",
     "output_type": "stream",
     "text": [
      "SAVEE dataset\n"
     ]
    },
    {
     "data": {
      "text/html": [
       "<div>\n",
       "<style scoped>\n",
       "    .dataframe tbody tr th:only-of-type {\n",
       "        vertical-align: middle;\n",
       "    }\n",
       "\n",
       "    .dataframe tbody tr th {\n",
       "        vertical-align: top;\n",
       "    }\n",
       "\n",
       "    .dataframe thead th {\n",
       "        text-align: right;\n",
       "    }\n",
       "</style>\n",
       "<table border=\"1\" class=\"dataframe\">\n",
       "  <thead>\n",
       "    <tr style=\"text-align: right;\">\n",
       "      <th></th>\n",
       "      <th>labels</th>\n",
       "      <th>path</th>\n",
       "    </tr>\n",
       "  </thead>\n",
       "  <tbody>\n",
       "    <tr>\n",
       "      <th>0</th>\n",
       "      <td>angry</td>\n",
       "      <td>./dataset/ALL/DC_a01.wav</td>\n",
       "    </tr>\n",
       "    <tr>\n",
       "      <th>1</th>\n",
       "      <td>angry</td>\n",
       "      <td>./dataset/ALL/DC_a02.wav</td>\n",
       "    </tr>\n",
       "    <tr>\n",
       "      <th>2</th>\n",
       "      <td>angry</td>\n",
       "      <td>./dataset/ALL/DC_a03.wav</td>\n",
       "    </tr>\n",
       "    <tr>\n",
       "      <th>3</th>\n",
       "      <td>angry</td>\n",
       "      <td>./dataset/ALL/DC_a04.wav</td>\n",
       "    </tr>\n",
       "    <tr>\n",
       "      <th>4</th>\n",
       "      <td>angry</td>\n",
       "      <td>./dataset/ALL/DC_a05.wav</td>\n",
       "    </tr>\n",
       "  </tbody>\n",
       "</table>\n",
       "</div>"
      ],
      "text/plain": [
       "  labels                      path\n",
       "0  angry  ./dataset/ALL/DC_a01.wav\n",
       "1  angry  ./dataset/ALL/DC_a02.wav\n",
       "2  angry  ./dataset/ALL/DC_a03.wav\n",
       "3  angry  ./dataset/ALL/DC_a04.wav\n",
       "4  angry  ./dataset/ALL/DC_a05.wav"
      ]
     },
     "execution_count": 5,
     "metadata": {},
     "output_type": "execute_result"
    }
   ],
   "source": [
    "SAVEE_df = pd.DataFrame(emotion, columns = ['labels'])\n",
    "SAVEE_df = pd.concat([SAVEE_df, pd.DataFrame(path, columns = ['path'])], axis = 1)\n",
    "print('SAVEE dataset')\n",
    "SAVEE_df.head()"
   ]
  },
  {
   "cell_type": "code",
   "execution_count": 6,
   "id": "4c817425-5ec0-4c3d-bed9-c35d4712a547",
   "metadata": {
    "tags": []
   },
   "outputs": [],
   "source": [
    "TESS = './dataset/TESS Toronto emotional speech set data/'"
   ]
  },
  {
   "cell_type": "code",
   "execution_count": 7,
   "id": "9e4aa3bd-80b4-4eb0-976b-41b3777230d0",
   "metadata": {
    "tags": []
   },
   "outputs": [
    {
     "data": {
      "text/plain": [
       "['OAF_angry',\n",
       " 'OAF_disgust',\n",
       " 'OAF_Fear',\n",
       " 'OAF_happy',\n",
       " 'OAF_neutral',\n",
       " 'OAF_Pleasant_surprise',\n",
       " 'OAF_Sad',\n",
       " 'TESS Toronto emotional speech set data',\n",
       " 'YAF_angry',\n",
       " 'YAF_disgust',\n",
       " 'YAF_fear',\n",
       " 'YAF_happy',\n",
       " 'YAF_neutral',\n",
       " 'YAF_pleasant_surprised',\n",
       " 'YAF_sad']"
      ]
     },
     "execution_count": 7,
     "metadata": {},
     "output_type": "execute_result"
    }
   ],
   "source": [
    "os.listdir('dataset/TESS Toronto emotional speech set data')"
   ]
  },
  {
   "cell_type": "code",
   "execution_count": 8,
   "id": "dd134fd1-9879-4384-b8f8-d876fd575cdc",
   "metadata": {
    "tags": []
   },
   "outputs": [],
   "source": [
    "path = []\n",
    "emotion = []\n",
    "dir_list = os.listdir(TESS)\n",
    "\n",
    "for i in dir_list:\n",
    "    fname = os.listdir(TESS + i)   \n",
    "    for f in fname:\n",
    "        if i == 'OAF_angry' or i == 'YAF_angry':\n",
    "            emotion.append('angry')\n",
    "        elif i == 'OAF_disgust' or i == 'YAF_disgust':\n",
    "            emotion.append('disgust')\n",
    "        elif i == 'OAF_Fear' or i == 'YAF_fear':\n",
    "            emotion.append('fear')\n",
    "        elif i == 'OAF_happy' or i == 'YAF_happy':\n",
    "            emotion.append('happy')\n",
    "        elif i == 'OAF_neutral' or i == 'YAF_neutral':\n",
    "            emotion.append('neutral')                                \n",
    "        elif i == 'OAF_Pleasant_surprise' or i == 'YAF_pleasant_surprised':\n",
    "            emotion.append('surprise')               \n",
    "        elif i == 'OAF_Sad' or i == 'YAF_sad':\n",
    "            emotion.append('sad')\n",
    "        else:\n",
    "            emotion.append('Unknown')\n",
    "        path.append(TESS + i + \"/\" + f)"
   ]
  },
  {
   "cell_type": "code",
   "execution_count": 9,
   "id": "a146e10a-eaae-42d9-9550-38877d05263c",
   "metadata": {
    "tags": []
   },
   "outputs": [
    {
     "name": "stdout",
     "output_type": "stream",
     "text": [
      "TESS dataset\n"
     ]
    },
    {
     "data": {
      "text/html": [
       "<div>\n",
       "<style scoped>\n",
       "    .dataframe tbody tr th:only-of-type {\n",
       "        vertical-align: middle;\n",
       "    }\n",
       "\n",
       "    .dataframe tbody tr th {\n",
       "        vertical-align: top;\n",
       "    }\n",
       "\n",
       "    .dataframe thead th {\n",
       "        text-align: right;\n",
       "    }\n",
       "</style>\n",
       "<table border=\"1\" class=\"dataframe\">\n",
       "  <thead>\n",
       "    <tr style=\"text-align: right;\">\n",
       "      <th></th>\n",
       "      <th>labels</th>\n",
       "      <th>path</th>\n",
       "    </tr>\n",
       "  </thead>\n",
       "  <tbody>\n",
       "    <tr>\n",
       "      <th>0</th>\n",
       "      <td>angry</td>\n",
       "      <td>./dataset/TESS Toronto emotional speech set da...</td>\n",
       "    </tr>\n",
       "    <tr>\n",
       "      <th>1</th>\n",
       "      <td>angry</td>\n",
       "      <td>./dataset/TESS Toronto emotional speech set da...</td>\n",
       "    </tr>\n",
       "    <tr>\n",
       "      <th>2</th>\n",
       "      <td>angry</td>\n",
       "      <td>./dataset/TESS Toronto emotional speech set da...</td>\n",
       "    </tr>\n",
       "    <tr>\n",
       "      <th>3</th>\n",
       "      <td>angry</td>\n",
       "      <td>./dataset/TESS Toronto emotional speech set da...</td>\n",
       "    </tr>\n",
       "    <tr>\n",
       "      <th>4</th>\n",
       "      <td>angry</td>\n",
       "      <td>./dataset/TESS Toronto emotional speech set da...</td>\n",
       "    </tr>\n",
       "  </tbody>\n",
       "</table>\n",
       "</div>"
      ],
      "text/plain": [
       "  labels                                               path\n",
       "0  angry  ./dataset/TESS Toronto emotional speech set da...\n",
       "1  angry  ./dataset/TESS Toronto emotional speech set da...\n",
       "2  angry  ./dataset/TESS Toronto emotional speech set da...\n",
       "3  angry  ./dataset/TESS Toronto emotional speech set da...\n",
       "4  angry  ./dataset/TESS Toronto emotional speech set da..."
      ]
     },
     "execution_count": 9,
     "metadata": {},
     "output_type": "execute_result"
    }
   ],
   "source": [
    "TESS_df = pd.DataFrame(emotion, columns = ['labels'])\n",
    "#TESS_df['source'] = 'TESS'\n",
    "TESS_df = pd.concat([TESS_df,pd.DataFrame(path, columns = ['path'])],axis=1)\n",
    "print('TESS dataset')\n",
    "TESS_df.head()"
   ]
  },
  {
   "cell_type": "code",
   "execution_count": 3,
   "id": "bdb372c0-3993-4825-87f2-8242041e0ba8",
   "metadata": {
    "tags": []
   },
   "outputs": [
    {
     "ename": "NameError",
     "evalue": "name 'pd' is not defined",
     "output_type": "error",
     "traceback": [
      "\u001b[1;31m---------------------------------------------------------------------------\u001b[0m",
      "\u001b[1;31mNameError\u001b[0m                                 Traceback (most recent call last)",
      "Cell \u001b[1;32mIn[3], line 2\u001b[0m\n\u001b[0;32m      1\u001b[0m \u001b[38;5;66;03m# Now lets merge all the dataframe\u001b[39;00m\n\u001b[1;32m----> 2\u001b[0m Males \u001b[38;5;241m=\u001b[39m \u001b[43mpd\u001b[49m\u001b[38;5;241m.\u001b[39mconcat([SAVEE_df], axis \u001b[38;5;241m=\u001b[39m \u001b[38;5;241m0\u001b[39m)\n\u001b[0;32m      3\u001b[0m Males\u001b[38;5;241m.\u001b[39mto_csv(\u001b[38;5;124m\"\u001b[39m\u001b[38;5;124mmales_emotions_df.csv\u001b[39m\u001b[38;5;124m\"\u001b[39m, index \u001b[38;5;241m=\u001b[39m \u001b[38;5;28;01mFalse\u001b[39;00m)\n\u001b[0;32m      5\u001b[0m Females \u001b[38;5;241m=\u001b[39m pd\u001b[38;5;241m.\u001b[39mconcat([TESS_df], axis \u001b[38;5;241m=\u001b[39m \u001b[38;5;241m0\u001b[39m)\n",
      "\u001b[1;31mNameError\u001b[0m: name 'pd' is not defined"
     ]
    }
   ],
   "source": [
    "# Now lets merge all the dataframe\n",
    "Males = pd.concat([SAVEE_df], axis = 0)\n",
    "Males.to_csv(\"males_emotions_df.csv\", index = False)\n",
    "\n",
    "Females = pd.concat([TESS_df], axis = 0)\n",
    "Females.to_csv(\"females_emotions_df.csv\", index = False)\n"
   ]
  },
  {
   "cell_type": "code",
   "execution_count": 2,
   "id": "9d0bb3b5-895f-4e89-860f-1517a35c0d87",
   "metadata": {
    "tags": []
   },
   "outputs": [
    {
     "ename": "NameError",
     "evalue": "name 'Males' is not defined",
     "output_type": "error",
     "traceback": [
      "\u001b[1;31m---------------------------------------------------------------------------\u001b[0m",
      "\u001b[1;31mNameError\u001b[0m                                 Traceback (most recent call last)",
      "Cell \u001b[1;32mIn[2], line 1\u001b[0m\n\u001b[1;32m----> 1\u001b[0m \u001b[38;5;28mtype\u001b[39m(\u001b[43mMales\u001b[49m)\n",
      "\u001b[1;31mNameError\u001b[0m: name 'Males' is not defined"
     ]
    }
   ],
   "source": [
    "type(Males)"
   ]
  },
  {
   "cell_type": "code",
   "execution_count": 22,
   "id": "6d2a8c5a-4c00-48e9-a4e1-ad7f36549f17",
   "metadata": {
    "tags": []
   },
   "outputs": [
    {
     "data": {
      "text/plain": [
       "neutral     120\n",
       "angry        60\n",
       "disgust      60\n",
       "fear         60\n",
       "happy        60\n",
       "sad          60\n",
       "surprise     60\n",
       "Name: labels, dtype: int64"
      ]
     },
     "execution_count": 22,
     "metadata": {},
     "output_type": "execute_result"
    }
   ],
   "source": [
    "#check whether dataset is imbalanced\n",
    "Males['labels'].value_counts()"
   ]
  },
  {
   "cell_type": "markdown",
   "id": "0bf6f3b5-4abd-4cf8-9c54-a3ad5ecf7937",
   "metadata": {},
   "source": [
    "# Feature Extraction"
   ]
  },
  {
   "cell_type": "markdown",
   "id": "e8766107-0299-4f7b-bfd1-18b2c0459a50",
   "metadata": {},
   "source": [
    "##### MFCC(mel freq cepstral coeff) converts audio into features based on time and freq"
   ]
  },
  {
   "cell_type": "code",
   "execution_count": 13,
   "id": "4a5979ba-71f3-422b-9031-99f7c3784b7a",
   "metadata": {
    "tags": []
   },
   "outputs": [],
   "source": [
    "import numpy as np\n",
    "from tqdm import tqdm\n",
    "import librosa\n"
   ]
  },
  {
   "cell_type": "code",
   "execution_count": 21,
   "id": "a66fcb74-537e-4f3f-8ad9-1028b8cb6f60",
   "metadata": {
    "tags": []
   },
   "outputs": [
    {
     "data": {
      "text/plain": [
       "(40, 79)"
      ]
     },
     "execution_count": 21,
     "metadata": {},
     "output_type": "execute_result"
    }
   ],
   "source": [
    "mfccs = librosa.feature.mfcc(y=data,sr=sample_rate,n_mfcc=40)\n",
    "mfccs.shape"
   ]
  },
  {
   "cell_type": "code",
   "execution_count": 22,
   "id": "84f478e4-934a-489f-aa3e-23e6117cb6c9",
   "metadata": {
    "tags": []
   },
   "outputs": [],
   "source": [
    "def feature_extractor(file):\n",
    "    data,sample_rate=librosa.load(file,res_type=\"kaiser_fast\")\n",
    "    mfccs_features = librosa.feature.mfcc(y=data,sr=sample_rate,n_mfcc=40)\n",
    "    mfccs_scaled_features = np.mean(mfccs_features.T,axis=0)\n",
    "    return mfccs_scaled_features"
   ]
  },
  {
   "cell_type": "code",
   "execution_count": 26,
   "id": "3c798af1-0159-4890-816b-188d9a7c964d",
   "metadata": {
    "tags": []
   },
   "outputs": [
    {
     "name": "stdout",
     "output_type": "stream",
     "text": [
      "Collecting resampy\n",
      "  Using cached resampy-0.4.2-py3-none-any.whl (3.1 MB)\n",
      "Requirement already satisfied: numpy>=1.17 in c:\\users\\harsh\\anaconda3\\lib\\site-packages (from resampy) (1.24.3)\n",
      "Requirement already satisfied: numba>=0.53 in c:\\users\\harsh\\anaconda3\\lib\\site-packages (from resampy) (0.57.0)\n",
      "Requirement already satisfied: llvmlite<0.41,>=0.40.0dev0 in c:\\users\\harsh\\anaconda3\\lib\\site-packages (from numba>=0.53->resampy) (0.40.0)\n",
      "Installing collected packages: resampy\n",
      "Successfully installed resampy-0.4.2\n",
      "Note: you may need to restart the kernel to use updated packages.\n"
     ]
    }
   ],
   "source": [
    "pip install resampy"
   ]
  },
  {
   "cell_type": "code",
   "execution_count": 23,
   "id": "564268cd-14d0-464e-b86d-98afc5efc1bf",
   "metadata": {
    "tags": []
   },
   "outputs": [
    {
     "name": "stderr",
     "output_type": "stream",
     "text": [
      "480it [00:23, 20.10it/s]\n"
     ]
    }
   ],
   "source": [
    "extracted_features=[]\n",
    "for index_num,row in tqdm(Males.iterrows()):\n",
    "    file_name = os.path.join(str(row[\"path\"]))\n",
    "    final_class_labels=row['labels']\n",
    "    data=feature_extractor(file_name)\n",
    "    extracted_features.append([data,final_class_labels])"
   ]
  },
  {
   "cell_type": "code",
   "execution_count": 24,
   "id": "b01a4a4c-04c2-4eaa-b35e-c91db5c85b02",
   "metadata": {
    "tags": []
   },
   "outputs": [
    {
     "data": {
      "text/html": [
       "<div>\n",
       "<style scoped>\n",
       "    .dataframe tbody tr th:only-of-type {\n",
       "        vertical-align: middle;\n",
       "    }\n",
       "\n",
       "    .dataframe tbody tr th {\n",
       "        vertical-align: top;\n",
       "    }\n",
       "\n",
       "    .dataframe thead th {\n",
       "        text-align: right;\n",
       "    }\n",
       "</style>\n",
       "<table border=\"1\" class=\"dataframe\">\n",
       "  <thead>\n",
       "    <tr style=\"text-align: right;\">\n",
       "      <th></th>\n",
       "      <th>feature</th>\n",
       "      <th>class</th>\n",
       "    </tr>\n",
       "  </thead>\n",
       "  <tbody>\n",
       "    <tr>\n",
       "      <th>0</th>\n",
       "      <td>[-318.13553, 112.58883, 12.374594, 34.595497, ...</td>\n",
       "      <td>angry</td>\n",
       "    </tr>\n",
       "    <tr>\n",
       "      <th>1</th>\n",
       "      <td>[-297.13733, 121.77495, -7.80639, 18.556658, 1...</td>\n",
       "      <td>angry</td>\n",
       "    </tr>\n",
       "    <tr>\n",
       "      <th>2</th>\n",
       "      <td>[-334.07016, 99.63335, 4.961581, 26.745983, 10...</td>\n",
       "      <td>angry</td>\n",
       "    </tr>\n",
       "    <tr>\n",
       "      <th>3</th>\n",
       "      <td>[-286.51, 102.862076, 6.9930077, 15.80298, 7.4...</td>\n",
       "      <td>angry</td>\n",
       "    </tr>\n",
       "    <tr>\n",
       "      <th>4</th>\n",
       "      <td>[-296.5961, 94.008575, 0.56966364, 22.934097, ...</td>\n",
       "      <td>angry</td>\n",
       "    </tr>\n",
       "  </tbody>\n",
       "</table>\n",
       "</div>"
      ],
      "text/plain": [
       "                                             feature  class\n",
       "0  [-318.13553, 112.58883, 12.374594, 34.595497, ...  angry\n",
       "1  [-297.13733, 121.77495, -7.80639, 18.556658, 1...  angry\n",
       "2  [-334.07016, 99.63335, 4.961581, 26.745983, 10...  angry\n",
       "3  [-286.51, 102.862076, 6.9930077, 15.80298, 7.4...  angry\n",
       "4  [-296.5961, 94.008575, 0.56966364, 22.934097, ...  angry"
      ]
     },
     "execution_count": 24,
     "metadata": {},
     "output_type": "execute_result"
    }
   ],
   "source": [
    "extracted_features_df = pd.DataFrame(extracted_features,columns=['feature','class'])\n",
    "extracted_features_df.head()"
   ]
  },
  {
   "cell_type": "code",
   "execution_count": 67,
   "id": "63b0689f-7a22-4d9d-aef5-0f941dfd0f6a",
   "metadata": {
    "tags": []
   },
   "outputs": [],
   "source": [
    "#split in indep and dep dataset\n",
    "X = np.array(extracted_features_df['feature'].tolist())\n",
    "y = np.array(extracted_features_df['class'].tolist())"
   ]
  },
  {
   "cell_type": "code",
   "execution_count": 45,
   "id": "22b05361-45e5-48da-8313-3ea27cab54a1",
   "metadata": {
    "tags": []
   },
   "outputs": [
    {
     "data": {
      "text/plain": [
       "(480, 40)"
      ]
     },
     "execution_count": 45,
     "metadata": {},
     "output_type": "execute_result"
    }
   ],
   "source": [
    "X.shape"
   ]
  },
  {
   "cell_type": "code",
   "execution_count": 68,
   "id": "37263514",
   "metadata": {},
   "outputs": [
    {
     "data": {
      "text/plain": [
       "array(['angry', 'angry', 'angry', 'angry', 'angry', 'angry', 'angry',\n",
       "       'angry', 'angry', 'angry', 'angry', 'angry', 'angry', 'angry',\n",
       "       'angry', 'disgust', 'disgust', 'disgust', 'disgust', 'disgust',\n",
       "       'disgust', 'disgust', 'disgust', 'disgust', 'disgust', 'disgust',\n",
       "       'disgust', 'disgust', 'disgust', 'disgust', 'fear', 'fear', 'fear',\n",
       "       'fear', 'fear', 'fear', 'fear', 'fear', 'fear', 'fear', 'fear',\n",
       "       'fear', 'fear', 'fear', 'fear', 'happy', 'happy', 'happy', 'happy',\n",
       "       'happy', 'happy', 'happy', 'happy', 'happy', 'happy', 'happy',\n",
       "       'happy', 'happy', 'happy', 'happy', 'neutral', 'neutral',\n",
       "       'neutral', 'neutral', 'neutral', 'neutral', 'neutral', 'neutral',\n",
       "       'neutral', 'neutral', 'neutral', 'neutral', 'neutral', 'neutral',\n",
       "       'neutral', 'neutral', 'neutral', 'neutral', 'neutral', 'neutral',\n",
       "       'neutral', 'neutral', 'neutral', 'neutral', 'neutral', 'neutral',\n",
       "       'neutral', 'neutral', 'neutral', 'neutral', 'sad', 'sad', 'sad',\n",
       "       'sad', 'sad', 'sad', 'sad', 'sad', 'sad', 'sad', 'sad', 'sad',\n",
       "       'sad', 'sad', 'sad', 'surprise', 'surprise', 'surprise',\n",
       "       'surprise', 'surprise', 'surprise', 'surprise', 'surprise',\n",
       "       'surprise', 'surprise', 'surprise', 'surprise', 'surprise',\n",
       "       'surprise', 'surprise', 'angry', 'angry', 'angry', 'angry',\n",
       "       'angry', 'angry', 'angry', 'angry', 'angry', 'angry', 'angry',\n",
       "       'angry', 'angry', 'angry', 'angry', 'disgust', 'disgust',\n",
       "       'disgust', 'disgust', 'disgust', 'disgust', 'disgust', 'disgust',\n",
       "       'disgust', 'disgust', 'disgust', 'disgust', 'disgust', 'disgust',\n",
       "       'disgust', 'fear', 'fear', 'fear', 'fear', 'fear', 'fear', 'fear',\n",
       "       'fear', 'fear', 'fear', 'fear', 'fear', 'fear', 'fear', 'fear',\n",
       "       'happy', 'happy', 'happy', 'happy', 'happy', 'happy', 'happy',\n",
       "       'happy', 'happy', 'happy', 'happy', 'happy', 'happy', 'happy',\n",
       "       'happy', 'neutral', 'neutral', 'neutral', 'neutral', 'neutral',\n",
       "       'neutral', 'neutral', 'neutral', 'neutral', 'neutral', 'neutral',\n",
       "       'neutral', 'neutral', 'neutral', 'neutral', 'neutral', 'neutral',\n",
       "       'neutral', 'neutral', 'neutral', 'neutral', 'neutral', 'neutral',\n",
       "       'neutral', 'neutral', 'neutral', 'neutral', 'neutral', 'neutral',\n",
       "       'neutral', 'sad', 'sad', 'sad', 'sad', 'sad', 'sad', 'sad', 'sad',\n",
       "       'sad', 'sad', 'sad', 'sad', 'sad', 'sad', 'sad', 'surprise',\n",
       "       'surprise', 'surprise', 'surprise', 'surprise', 'surprise',\n",
       "       'surprise', 'surprise', 'surprise', 'surprise', 'surprise',\n",
       "       'surprise', 'surprise', 'surprise', 'surprise', 'angry', 'angry',\n",
       "       'angry', 'angry', 'angry', 'angry', 'angry', 'angry', 'angry',\n",
       "       'angry', 'angry', 'angry', 'angry', 'angry', 'angry', 'disgust',\n",
       "       'disgust', 'disgust', 'disgust', 'disgust', 'disgust', 'disgust',\n",
       "       'disgust', 'disgust', 'disgust', 'disgust', 'disgust', 'disgust',\n",
       "       'disgust', 'disgust', 'fear', 'fear', 'fear', 'fear', 'fear',\n",
       "       'fear', 'fear', 'fear', 'fear', 'fear', 'fear', 'fear', 'fear',\n",
       "       'fear', 'fear', 'happy', 'happy', 'happy', 'happy', 'happy',\n",
       "       'happy', 'happy', 'happy', 'happy', 'happy', 'happy', 'happy',\n",
       "       'happy', 'happy', 'happy', 'neutral', 'neutral', 'neutral',\n",
       "       'neutral', 'neutral', 'neutral', 'neutral', 'neutral', 'neutral',\n",
       "       'neutral', 'neutral', 'neutral', 'neutral', 'neutral', 'neutral',\n",
       "       'neutral', 'neutral', 'neutral', 'neutral', 'neutral', 'neutral',\n",
       "       'neutral', 'neutral', 'neutral', 'neutral', 'neutral', 'neutral',\n",
       "       'neutral', 'neutral', 'neutral', 'sad', 'sad', 'sad', 'sad', 'sad',\n",
       "       'sad', 'sad', 'sad', 'sad', 'sad', 'sad', 'sad', 'sad', 'sad',\n",
       "       'sad', 'surprise', 'surprise', 'surprise', 'surprise', 'surprise',\n",
       "       'surprise', 'surprise', 'surprise', 'surprise', 'surprise',\n",
       "       'surprise', 'surprise', 'surprise', 'surprise', 'surprise',\n",
       "       'angry', 'angry', 'angry', 'angry', 'angry', 'angry', 'angry',\n",
       "       'angry', 'angry', 'angry', 'angry', 'angry', 'angry', 'angry',\n",
       "       'angry', 'disgust', 'disgust', 'disgust', 'disgust', 'disgust',\n",
       "       'disgust', 'disgust', 'disgust', 'disgust', 'disgust', 'disgust',\n",
       "       'disgust', 'disgust', 'disgust', 'disgust', 'fear', 'fear', 'fear',\n",
       "       'fear', 'fear', 'fear', 'fear', 'fear', 'fear', 'fear', 'fear',\n",
       "       'fear', 'fear', 'fear', 'fear', 'happy', 'happy', 'happy', 'happy',\n",
       "       'happy', 'happy', 'happy', 'happy', 'happy', 'happy', 'happy',\n",
       "       'happy', 'happy', 'happy', 'happy', 'neutral', 'neutral',\n",
       "       'neutral', 'neutral', 'neutral', 'neutral', 'neutral', 'neutral',\n",
       "       'neutral', 'neutral', 'neutral', 'neutral', 'neutral', 'neutral',\n",
       "       'neutral', 'neutral', 'neutral', 'neutral', 'neutral', 'neutral',\n",
       "       'neutral', 'neutral', 'neutral', 'neutral', 'neutral', 'neutral',\n",
       "       'neutral', 'neutral', 'neutral', 'neutral', 'sad', 'sad', 'sad',\n",
       "       'sad', 'sad', 'sad', 'sad', 'sad', 'sad', 'sad', 'sad', 'sad',\n",
       "       'sad', 'sad', 'sad', 'surprise', 'surprise', 'surprise',\n",
       "       'surprise', 'surprise', 'surprise', 'surprise', 'surprise',\n",
       "       'surprise', 'surprise', 'surprise', 'surprise', 'surprise',\n",
       "       'surprise', 'surprise'], dtype='<U8')"
      ]
     },
     "execution_count": 68,
     "metadata": {},
     "output_type": "execute_result"
    }
   ],
   "source": [
    "y"
   ]
  },
  {
   "cell_type": "code",
   "execution_count": 64,
   "id": "0d820d33",
   "metadata": {},
   "outputs": [],
   "source": [
    "from tensorflow.keras.utils import to_categorical \n",
    "from sklearn.preprocessing import LabelEncoder\n",
    "labelencoder=LabelEncoder()"
   ]
  },
  {
   "cell_type": "code",
   "execution_count": 69,
   "id": "6eb68e22-792b-4a38-88ec-b8ab05c2a13a",
   "metadata": {
    "tags": []
   },
   "outputs": [],
   "source": [
    "y=to_categorical(labelencoder.fit_transform(y))"
   ]
  },
  {
   "cell_type": "code",
   "execution_count": 71,
   "id": "4c690426-a71a-465a-847b-ac299e387ca3",
   "metadata": {
    "tags": []
   },
   "outputs": [
    {
     "data": {
      "text/plain": [
       "array([[1., 0., 0., ..., 0., 0., 0.],\n",
       "       [1., 0., 0., ..., 0., 0., 0.],\n",
       "       [1., 0., 0., ..., 0., 0., 0.],\n",
       "       ...,\n",
       "       [0., 0., 0., ..., 0., 0., 1.],\n",
       "       [0., 0., 0., ..., 0., 0., 1.],\n",
       "       [0., 0., 0., ..., 0., 0., 1.]], dtype=float32)"
      ]
     },
     "execution_count": 71,
     "metadata": {},
     "output_type": "execute_result"
    }
   ],
   "source": [
    "y"
   ]
  },
  {
   "cell_type": "code",
   "execution_count": 72,
   "id": "d79f3bde-e8f5-4694-8921-02a3ace19e86",
   "metadata": {
    "tags": []
   },
   "outputs": [],
   "source": [
    "#train-test split\n",
    "from sklearn.model_selection import train_test_split\n",
    "X_train,X_test,y_train,y_test=train_test_split(X,y,test_size=0.2,random_state=0)"
   ]
  },
  {
   "cell_type": "code",
   "execution_count": 73,
   "id": "a826c1ce",
   "metadata": {},
   "outputs": [
    {
     "data": {
      "text/plain": [
       "(384, 40)"
      ]
     },
     "execution_count": 73,
     "metadata": {},
     "output_type": "execute_result"
    }
   ],
   "source": [
    "X_train.shape"
   ]
  },
  {
   "cell_type": "code",
   "execution_count": 74,
   "id": "daf31325-1764-4efa-9091-43dbf6760e44",
   "metadata": {
    "tags": []
   },
   "outputs": [
    {
     "data": {
      "text/plain": [
       "(384, 7)"
      ]
     },
     "execution_count": 74,
     "metadata": {},
     "output_type": "execute_result"
    }
   ],
   "source": [
    "y_train.shape"
   ]
  },
  {
   "cell_type": "markdown",
   "id": "fc1613fd",
   "metadata": {},
   "source": [
    "# Model"
   ]
  },
  {
   "cell_type": "code",
   "execution_count": 33,
   "id": "19fa8e53",
   "metadata": {},
   "outputs": [
    {
     "name": "stdout",
     "output_type": "stream",
     "text": [
      "2.10.0\n"
     ]
    }
   ],
   "source": [
    "import tensorflow as tf\n",
    "print(tf.__version__)"
   ]
  },
  {
   "cell_type": "code",
   "execution_count": 35,
   "id": "bb6b0e75",
   "metadata": {},
   "outputs": [],
   "source": [
    "from tensorflow.keras.models import Sequential\n",
    "from tensorflow.keras.layers import Dense,Dropout,Activation,Flatten\n",
    "from tensorflow.keras.optimizers import Adam\n",
    "from sklearn import metrics"
   ]
  },
  {
   "cell_type": "code",
   "execution_count": 75,
   "id": "b9638f18",
   "metadata": {},
   "outputs": [],
   "source": [
    "num_labels = y.shape[1]"
   ]
  },
  {
   "cell_type": "code",
   "execution_count": null,
   "id": "bd4f286c-838f-4a5e-87ff-f6d31cfaae01",
   "metadata": {},
   "outputs": [],
   "source": []
  },
  {
   "cell_type": "code",
   "execution_count": 38,
   "id": "cbe20e59",
   "metadata": {},
   "outputs": [
    {
     "ename": "TypeError",
     "evalue": "Dense.__init__() missing 1 required positional argument: 'units'",
     "output_type": "error",
     "traceback": [
      "\u001b[1;31m---------------------------------------------------------------------------\u001b[0m",
      "\u001b[1;31mTypeError\u001b[0m                                 Traceback (most recent call last)",
      "Cell \u001b[1;32mIn[38], line 1\u001b[0m\n\u001b[1;32m----> 1\u001b[0m \u001b[43mDense\u001b[49m\u001b[43m(\u001b[49m\u001b[43m)\u001b[49m\n",
      "File \u001b[1;32m~\\anaconda3\\envs\\harsh_env_2\\lib\\site-packages\\keras\\dtensor\\utils.py:96\u001b[0m, in \u001b[0;36mallow_initializer_layout.<locals>._wrap_function\u001b[1;34m(layer_instance, *args, **kwargs)\u001b[0m\n\u001b[0;32m     93\u001b[0m         \u001b[38;5;28;01mif\u001b[39;00m layout:\n\u001b[0;32m     94\u001b[0m             layout_args[variable_name \u001b[38;5;241m+\u001b[39m \u001b[38;5;124m\"\u001b[39m\u001b[38;5;124m_layout\u001b[39m\u001b[38;5;124m\"\u001b[39m] \u001b[38;5;241m=\u001b[39m layout\n\u001b[1;32m---> 96\u001b[0m init_method(layer_instance, \u001b[38;5;241m*\u001b[39margs, \u001b[38;5;241m*\u001b[39m\u001b[38;5;241m*\u001b[39mkwargs)\n\u001b[0;32m     98\u001b[0m \u001b[38;5;66;03m# Inject the layout parameter after the invocation of __init__()\u001b[39;00m\n\u001b[0;32m     99\u001b[0m \u001b[38;5;28;01mfor\u001b[39;00m layout_param_name, layout \u001b[38;5;129;01min\u001b[39;00m layout_args\u001b[38;5;241m.\u001b[39mitems():\n",
      "\u001b[1;31mTypeError\u001b[0m: Dense.__init__() missing 1 required positional argument: 'units'"
     ]
    }
   ],
   "source": [
    "Dense()"
   ]
  },
  {
   "cell_type": "code",
   "execution_count": 76,
   "id": "35af9b4c",
   "metadata": {},
   "outputs": [],
   "source": [
    "model=Sequential()\n",
    "#first layer\n",
    "model.add(Dense(100,input_shape=(40,)))\n",
    "model.add(Activation('relu'))\n",
    "model.add(Dropout(0.5))\n",
    "#second layer\n",
    "model.add(Dense(200))\n",
    "model.add(Activation('relu'))\n",
    "model.add(Dropout(0.5))\n",
    "#third layer\n",
    "model.add(Dense(100))\n",
    "model.add(Activation('relu'))\n",
    "model.add(Dropout(0.5))\n",
    "\n",
    "#final layer\n",
    "model.add(Dense(num_labels))\n",
    "model.add(Activation('softmax'))\n"
   ]
  },
  {
   "cell_type": "code",
   "execution_count": 77,
   "id": "458acbad",
   "metadata": {},
   "outputs": [
    {
     "name": "stdout",
     "output_type": "stream",
     "text": [
      "Model: \"sequential_2\"\n",
      "_________________________________________________________________\n",
      " Layer (type)                Output Shape              Param #   \n",
      "=================================================================\n",
      " dense_8 (Dense)             (None, 100)               4100      \n",
      "                                                                 \n",
      " activation_8 (Activation)   (None, 100)               0         \n",
      "                                                                 \n",
      " dropout_6 (Dropout)         (None, 100)               0         \n",
      "                                                                 \n",
      " dense_9 (Dense)             (None, 200)               20200     \n",
      "                                                                 \n",
      " activation_9 (Activation)   (None, 200)               0         \n",
      "                                                                 \n",
      " dropout_7 (Dropout)         (None, 200)               0         \n",
      "                                                                 \n",
      " dense_10 (Dense)            (None, 100)               20100     \n",
      "                                                                 \n",
      " activation_10 (Activation)  (None, 100)               0         \n",
      "                                                                 \n",
      " dropout_8 (Dropout)         (None, 100)               0         \n",
      "                                                                 \n",
      " dense_11 (Dense)            (None, 7)                 707       \n",
      "                                                                 \n",
      " activation_11 (Activation)  (None, 7)                 0         \n",
      "                                                                 \n",
      "=================================================================\n",
      "Total params: 45,107\n",
      "Trainable params: 45,107\n",
      "Non-trainable params: 0\n",
      "_________________________________________________________________\n"
     ]
    }
   ],
   "source": [
    "model.summary()"
   ]
  },
  {
   "cell_type": "code",
   "execution_count": 78,
   "id": "d78edaf4",
   "metadata": {},
   "outputs": [],
   "source": [
    "model.compile(loss='categorical_crossentropy',metrics=['accuracy'],optimizer='adam')"
   ]
  },
  {
   "cell_type": "code",
   "execution_count": 83,
   "id": "c3f88118",
   "metadata": {},
   "outputs": [
    {
     "name": "stdout",
     "output_type": "stream",
     "text": [
      "Epoch 1/100\n",
      " 1/12 [=>............................] - ETA: 0s - loss: 1.9468 - accuracy: 0.1562\n",
      "Epoch 1: val_loss improved from inf to 1.91499, saving model to audio_classification.hdf5\n",
      "12/12 [==============================] - 0s 21ms/step - loss: 1.9058 - accuracy: 0.2448 - val_loss: 1.9150 - val_accuracy: 0.2812\n",
      "Epoch 2/100\n",
      " 1/12 [=>............................] - ETA: 0s - loss: 2.0033 - accuracy: 0.1562\n",
      "Epoch 2: val_loss improved from 1.91499 to 1.91479, saving model to audio_classification.hdf5\n",
      "12/12 [==============================] - 0s 13ms/step - loss: 1.9101 - accuracy: 0.2422 - val_loss: 1.9148 - val_accuracy: 0.2812\n",
      "Epoch 3/100\n",
      " 1/12 [=>............................] - ETA: 0s - loss: 1.8598 - accuracy: 0.3438\n",
      "Epoch 3: val_loss did not improve from 1.91479\n",
      "12/12 [==============================] - 0s 9ms/step - loss: 1.9118 - accuracy: 0.2396 - val_loss: 1.9148 - val_accuracy: 0.2812\n",
      "Epoch 4/100\n",
      " 1/12 [=>............................] - ETA: 0s - loss: 1.9586 - accuracy: 0.1875\n",
      "Epoch 4: val_loss did not improve from 1.91479\n",
      "12/12 [==============================] - 0s 8ms/step - loss: 1.9146 - accuracy: 0.2396 - val_loss: 1.9150 - val_accuracy: 0.2812\n",
      "Epoch 5/100\n",
      " 1/12 [=>............................] - ETA: 0s - loss: 1.8550 - accuracy: 0.3125\n",
      "Epoch 5: val_loss did not improve from 1.91479\n",
      "12/12 [==============================] - 0s 8ms/step - loss: 1.9100 - accuracy: 0.2448 - val_loss: 1.9151 - val_accuracy: 0.2812\n",
      "Epoch 6/100\n",
      " 1/12 [=>............................] - ETA: 0s - loss: 1.9766 - accuracy: 0.1250\n",
      "Epoch 6: val_loss did not improve from 1.91479\n",
      "12/12 [==============================] - 0s 8ms/step - loss: 1.9064 - accuracy: 0.2448 - val_loss: 1.9151 - val_accuracy: 0.2812\n",
      "Epoch 7/100\n",
      " 1/12 [=>............................] - ETA: 0s - loss: 1.9459 - accuracy: 0.1875\n",
      "Epoch 7: val_loss did not improve from 1.91479\n",
      "12/12 [==============================] - 0s 7ms/step - loss: 1.9100 - accuracy: 0.2396 - val_loss: 1.9150 - val_accuracy: 0.2812\n",
      "Epoch 8/100\n",
      " 1/12 [=>............................] - ETA: 0s - loss: 1.9120 - accuracy: 0.2500\n",
      "Epoch 8: val_loss did not improve from 1.91479\n",
      "12/12 [==============================] - 0s 8ms/step - loss: 1.9024 - accuracy: 0.2396 - val_loss: 1.9151 - val_accuracy: 0.2812\n",
      "Epoch 9/100\n",
      " 1/12 [=>............................] - ETA: 0s - loss: 1.9942 - accuracy: 0.0938\n",
      "Epoch 9: val_loss did not improve from 1.91479\n",
      "12/12 [==============================] - 0s 9ms/step - loss: 1.9052 - accuracy: 0.2448 - val_loss: 1.9152 - val_accuracy: 0.2812\n",
      "Epoch 10/100\n",
      " 1/12 [=>............................] - ETA: 0s - loss: 1.9270 - accuracy: 0.2188\n",
      "Epoch 10: val_loss did not improve from 1.91479\n",
      "12/12 [==============================] - 0s 8ms/step - loss: 1.9064 - accuracy: 0.2422 - val_loss: 1.9151 - val_accuracy: 0.2812\n",
      "Epoch 11/100\n",
      " 1/12 [=>............................] - ETA: 0s - loss: 1.9031 - accuracy: 0.2188\n",
      "Epoch 11: val_loss did not improve from 1.91479\n",
      "12/12 [==============================] - 0s 8ms/step - loss: 1.9103 - accuracy: 0.2422 - val_loss: 1.9151 - val_accuracy: 0.2812\n",
      "Epoch 12/100\n",
      " 1/12 [=>............................] - ETA: 0s - loss: 1.9585 - accuracy: 0.1875\n",
      "Epoch 12: val_loss did not improve from 1.91479\n",
      "12/12 [==============================] - 0s 8ms/step - loss: 1.9124 - accuracy: 0.2422 - val_loss: 1.9152 - val_accuracy: 0.2812\n",
      "Epoch 13/100\n",
      " 1/12 [=>............................] - ETA: 0s - loss: 1.9925 - accuracy: 0.1562\n",
      "Epoch 13: val_loss did not improve from 1.91479\n",
      "12/12 [==============================] - 0s 8ms/step - loss: 1.9077 - accuracy: 0.2448 - val_loss: 1.9150 - val_accuracy: 0.2812\n",
      "Epoch 14/100\n",
      " 1/12 [=>............................] - ETA: 0s - loss: 1.9010 - accuracy: 0.3125\n",
      "Epoch 14: val_loss did not improve from 1.91479\n",
      "12/12 [==============================] - 0s 8ms/step - loss: 1.9031 - accuracy: 0.2448 - val_loss: 1.9149 - val_accuracy: 0.2812\n",
      "Epoch 15/100\n",
      " 1/12 [=>............................] - ETA: 0s - loss: 1.9231 - accuracy: 0.2188\n",
      "Epoch 15: val_loss did not improve from 1.91479\n",
      "12/12 [==============================] - 0s 8ms/step - loss: 1.9062 - accuracy: 0.2396 - val_loss: 1.9151 - val_accuracy: 0.2812\n",
      "Epoch 16/100\n",
      " 1/12 [=>............................] - ETA: 0s - loss: 1.9523 - accuracy: 0.1562\n",
      "Epoch 16: val_loss did not improve from 1.91479\n",
      "12/12 [==============================] - 0s 8ms/step - loss: 1.9064 - accuracy: 0.2422 - val_loss: 1.9152 - val_accuracy: 0.2812\n",
      "Epoch 17/100\n",
      " 1/12 [=>............................] - ETA: 0s - loss: 1.9719 - accuracy: 0.1562\n",
      "Epoch 17: val_loss did not improve from 1.91479\n",
      "12/12 [==============================] - 0s 8ms/step - loss: 1.9037 - accuracy: 0.2448 - val_loss: 1.9151 - val_accuracy: 0.2812\n",
      "Epoch 18/100\n",
      " 1/12 [=>............................] - ETA: 0s - loss: 1.9198 - accuracy: 0.2188\n",
      "Epoch 18: val_loss did not improve from 1.91479\n",
      "12/12 [==============================] - 0s 8ms/step - loss: 1.9132 - accuracy: 0.2396 - val_loss: 1.9150 - val_accuracy: 0.2812\n",
      "Epoch 19/100\n",
      " 1/12 [=>............................] - ETA: 0s - loss: 1.8872 - accuracy: 0.2500\n",
      "Epoch 19: val_loss did not improve from 1.91479\n",
      "12/12 [==============================] - 0s 9ms/step - loss: 1.9056 - accuracy: 0.2422 - val_loss: 1.9153 - val_accuracy: 0.2812\n",
      "Epoch 20/100\n",
      " 1/12 [=>............................] - ETA: 0s - loss: 2.0648 - accuracy: 0.0625\n",
      "Epoch 20: val_loss did not improve from 1.91479\n",
      "12/12 [==============================] - 0s 8ms/step - loss: 1.9095 - accuracy: 0.2422 - val_loss: 1.9153 - val_accuracy: 0.2812\n",
      "Epoch 21/100\n",
      " 1/12 [=>............................] - ETA: 0s - loss: 1.8648 - accuracy: 0.2812\n",
      "Epoch 21: val_loss did not improve from 1.91479\n",
      "12/12 [==============================] - 0s 8ms/step - loss: 1.9110 - accuracy: 0.2422 - val_loss: 1.9152 - val_accuracy: 0.2812\n",
      "Epoch 22/100\n",
      " 1/12 [=>............................] - ETA: 0s - loss: 1.9284 - accuracy: 0.2500\n",
      "Epoch 22: val_loss did not improve from 1.91479\n",
      "12/12 [==============================] - 0s 8ms/step - loss: 1.9211 - accuracy: 0.2344 - val_loss: 1.9153 - val_accuracy: 0.2812\n",
      "Epoch 23/100\n",
      "12/12 [==============================] - ETA: 0s - loss: 1.9055 - accuracy: 0.2422\n",
      "Epoch 23: val_loss did not improve from 1.91479\n",
      "12/12 [==============================] - 0s 11ms/step - loss: 1.9055 - accuracy: 0.2422 - val_loss: 1.9152 - val_accuracy: 0.2812\n",
      "Epoch 24/100\n",
      " 1/12 [=>............................] - ETA: 0s - loss: 1.9287 - accuracy: 0.2188\n",
      "Epoch 24: val_loss did not improve from 1.91479\n",
      "12/12 [==============================] - 0s 7ms/step - loss: 1.9074 - accuracy: 0.2448 - val_loss: 1.9152 - val_accuracy: 0.2812\n",
      "Epoch 25/100\n",
      " 1/12 [=>............................] - ETA: 0s - loss: 1.9950 - accuracy: 0.0938\n",
      "Epoch 25: val_loss did not improve from 1.91479\n",
      "12/12 [==============================] - 0s 7ms/step - loss: 1.9099 - accuracy: 0.2422 - val_loss: 1.9152 - val_accuracy: 0.2812\n",
      "Epoch 26/100\n",
      " 1/12 [=>............................] - ETA: 0s - loss: 1.9705 - accuracy: 0.1250\n",
      "Epoch 26: val_loss did not improve from 1.91479\n",
      "12/12 [==============================] - 0s 7ms/step - loss: 1.9053 - accuracy: 0.2370 - val_loss: 1.9152 - val_accuracy: 0.2812\n",
      "Epoch 27/100\n",
      " 1/12 [=>............................] - ETA: 0s - loss: 1.8699 - accuracy: 0.3125\n",
      "Epoch 27: val_loss did not improve from 1.91479\n",
      "12/12 [==============================] - 0s 7ms/step - loss: 1.9102 - accuracy: 0.2422 - val_loss: 1.9151 - val_accuracy: 0.2812\n",
      "Epoch 28/100\n",
      " 1/12 [=>............................] - ETA: 0s - loss: 1.8978 - accuracy: 0.2188\n",
      "Epoch 28: val_loss did not improve from 1.91479\n",
      "12/12 [==============================] - 0s 7ms/step - loss: 1.9127 - accuracy: 0.2422 - val_loss: 1.9154 - val_accuracy: 0.2812\n",
      "Epoch 29/100\n",
      " 1/12 [=>............................] - ETA: 0s - loss: 1.8333 - accuracy: 0.3438\n",
      "Epoch 29: val_loss did not improve from 1.91479\n",
      "12/12 [==============================] - 0s 8ms/step - loss: 1.9029 - accuracy: 0.2422 - val_loss: 1.9154 - val_accuracy: 0.2812\n",
      "Epoch 30/100\n",
      " 1/12 [=>............................] - ETA: 0s - loss: 1.8973 - accuracy: 0.2812\n",
      "Epoch 30: val_loss did not improve from 1.91479\n",
      "12/12 [==============================] - 0s 8ms/step - loss: 1.9129 - accuracy: 0.2422 - val_loss: 1.9155 - val_accuracy: 0.2812\n",
      "Epoch 31/100\n",
      " 1/12 [=>............................] - ETA: 0s - loss: 1.9637 - accuracy: 0.1562\n",
      "Epoch 31: val_loss did not improve from 1.91479\n",
      "12/12 [==============================] - 0s 8ms/step - loss: 1.9230 - accuracy: 0.2422 - val_loss: 1.9153 - val_accuracy: 0.2812\n",
      "Epoch 32/100\n",
      " 1/12 [=>............................] - ETA: 0s - loss: 1.9037 - accuracy: 0.2500\n",
      "Epoch 32: val_loss did not improve from 1.91479\n",
      "12/12 [==============================] - 0s 8ms/step - loss: 1.9054 - accuracy: 0.2422 - val_loss: 1.9152 - val_accuracy: 0.2812\n",
      "Epoch 33/100\n",
      " 1/12 [=>............................] - ETA: 0s - loss: 2.0385 - accuracy: 0.0625\n",
      "Epoch 33: val_loss did not improve from 1.91479\n",
      "12/12 [==============================] - 0s 8ms/step - loss: 1.9111 - accuracy: 0.2422 - val_loss: 1.9152 - val_accuracy: 0.2812\n",
      "Epoch 34/100\n",
      " 1/12 [=>............................] - ETA: 0s - loss: 1.8999 - accuracy: 0.2500\n",
      "Epoch 34: val_loss did not improve from 1.91479\n",
      "12/12 [==============================] - 0s 8ms/step - loss: 1.9077 - accuracy: 0.2422 - val_loss: 1.9153 - val_accuracy: 0.2812\n",
      "Epoch 35/100\n",
      " 1/12 [=>............................] - ETA: 0s - loss: 1.9296 - accuracy: 0.2188\n",
      "Epoch 35: val_loss did not improve from 1.91479\n",
      "12/12 [==============================] - 0s 8ms/step - loss: 1.9068 - accuracy: 0.2422 - val_loss: 1.9151 - val_accuracy: 0.2812\n",
      "Epoch 36/100\n",
      " 1/12 [=>............................] - ETA: 0s - loss: 2.0105 - accuracy: 0.1250\n",
      "Epoch 36: val_loss did not improve from 1.91479\n",
      "12/12 [==============================] - 0s 8ms/step - loss: 1.9143 - accuracy: 0.2422 - val_loss: 1.9152 - val_accuracy: 0.2812\n",
      "Epoch 37/100\n",
      " 1/12 [=>............................] - ETA: 0s - loss: 1.8673 - accuracy: 0.2812\n",
      "Epoch 37: val_loss did not improve from 1.91479\n",
      "12/12 [==============================] - 0s 8ms/step - loss: 1.9039 - accuracy: 0.2448 - val_loss: 1.9156 - val_accuracy: 0.2812\n",
      "Epoch 38/100\n",
      " 1/12 [=>............................] - ETA: 0s - loss: 1.9027 - accuracy: 0.2500\n",
      "Epoch 38: val_loss did not improve from 1.91479\n",
      "12/12 [==============================] - 0s 8ms/step - loss: 1.9099 - accuracy: 0.2422 - val_loss: 1.9152 - val_accuracy: 0.2812\n",
      "Epoch 39/100\n",
      " 1/12 [=>............................] - ETA: 0s - loss: 1.9716 - accuracy: 0.1562\n",
      "Epoch 39: val_loss did not improve from 1.91479\n",
      "12/12 [==============================] - 0s 8ms/step - loss: 1.9254 - accuracy: 0.2448 - val_loss: 1.9153 - val_accuracy: 0.2812\n",
      "Epoch 40/100\n",
      " 1/12 [=>............................] - ETA: 0s - loss: 1.8287 - accuracy: 0.3750\n",
      "Epoch 40: val_loss did not improve from 1.91479\n",
      "12/12 [==============================] - 0s 8ms/step - loss: 1.9099 - accuracy: 0.2422 - val_loss: 1.9150 - val_accuracy: 0.2812\n",
      "Epoch 41/100\n",
      " 1/12 [=>............................] - ETA: 0s - loss: 1.9316 - accuracy: 0.1875\n",
      "Epoch 41: val_loss did not improve from 1.91479\n",
      "12/12 [==============================] - 0s 8ms/step - loss: 1.9073 - accuracy: 0.2422 - val_loss: 1.9153 - val_accuracy: 0.2812\n",
      "Epoch 42/100\n",
      " 1/12 [=>............................] - ETA: 0s - loss: 1.8731 - accuracy: 0.3438\n",
      "Epoch 42: val_loss did not improve from 1.91479\n",
      "12/12 [==============================] - 0s 8ms/step - loss: 1.9108 - accuracy: 0.2396 - val_loss: 1.9153 - val_accuracy: 0.2812\n",
      "Epoch 43/100\n",
      " 1/12 [=>............................] - ETA: 0s - loss: 1.9586 - accuracy: 0.1875\n",
      "Epoch 43: val_loss did not improve from 1.91479\n",
      "12/12 [==============================] - 0s 7ms/step - loss: 1.9153 - accuracy: 0.2396 - val_loss: 1.9154 - val_accuracy: 0.2812\n",
      "Epoch 44/100\n",
      " 1/12 [=>............................] - ETA: 0s - loss: 1.8953 - accuracy: 0.2500\n",
      "Epoch 44: val_loss did not improve from 1.91479\n",
      "12/12 [==============================] - 0s 8ms/step - loss: 1.9046 - accuracy: 0.2448 - val_loss: 1.9153 - val_accuracy: 0.2812\n",
      "Epoch 45/100\n",
      " 1/12 [=>............................] - ETA: 0s - loss: 1.9667 - accuracy: 0.1250\n",
      "Epoch 45: val_loss did not improve from 1.91479\n",
      "12/12 [==============================] - 0s 9ms/step - loss: 1.9075 - accuracy: 0.2422 - val_loss: 1.9153 - val_accuracy: 0.2812\n",
      "Epoch 46/100\n",
      " 1/12 [=>............................] - ETA: 0s - loss: 1.8697 - accuracy: 0.3438\n",
      "Epoch 46: val_loss did not improve from 1.91479\n",
      "12/12 [==============================] - 0s 8ms/step - loss: 1.9081 - accuracy: 0.2422 - val_loss: 1.9151 - val_accuracy: 0.2812\n",
      "Epoch 47/100\n",
      " 1/12 [=>............................] - ETA: 0s - loss: 1.8123 - accuracy: 0.4375\n",
      "Epoch 47: val_loss did not improve from 1.91479\n",
      "12/12 [==============================] - 0s 8ms/step - loss: 1.9323 - accuracy: 0.2396 - val_loss: 1.9152 - val_accuracy: 0.2812\n",
      "Epoch 48/100\n",
      " 1/12 [=>............................] - ETA: 0s - loss: 1.8735 - accuracy: 0.3438\n",
      "Epoch 48: val_loss did not improve from 1.91479\n",
      "12/12 [==============================] - 0s 7ms/step - loss: 1.9074 - accuracy: 0.2396 - val_loss: 1.9151 - val_accuracy: 0.2812\n",
      "Epoch 49/100\n",
      " 1/12 [=>............................] - ETA: 0s - loss: 1.9190 - accuracy: 0.2188\n",
      "Epoch 49: val_loss did not improve from 1.91479\n",
      "12/12 [==============================] - 0s 8ms/step - loss: 1.9063 - accuracy: 0.2396 - val_loss: 1.9154 - val_accuracy: 0.2812\n",
      "Epoch 50/100\n",
      " 1/12 [=>............................] - ETA: 0s - loss: 1.8884 - accuracy: 0.2812\n",
      "Epoch 50: val_loss did not improve from 1.91479\n",
      "12/12 [==============================] - 0s 9ms/step - loss: 1.9077 - accuracy: 0.2422 - val_loss: 1.9153 - val_accuracy: 0.2812\n",
      "Epoch 51/100\n",
      " 1/12 [=>............................] - ETA: 0s - loss: 1.8260 - accuracy: 0.3438\n",
      "Epoch 51: val_loss did not improve from 1.91479\n",
      "12/12 [==============================] - 0s 8ms/step - loss: 1.9063 - accuracy: 0.2474 - val_loss: 1.9154 - val_accuracy: 0.2812\n",
      "Epoch 52/100\n",
      " 1/12 [=>............................] - ETA: 0s - loss: 1.9138 - accuracy: 0.2188\n",
      "Epoch 52: val_loss did not improve from 1.91479\n",
      "12/12 [==============================] - 0s 8ms/step - loss: 1.9119 - accuracy: 0.2396 - val_loss: 1.9154 - val_accuracy: 0.2812\n",
      "Epoch 53/100\n",
      " 1/12 [=>............................] - ETA: 0s - loss: 2.0054 - accuracy: 0.0938\n",
      "Epoch 53: val_loss did not improve from 1.91479\n",
      "12/12 [==============================] - 0s 8ms/step - loss: 1.9048 - accuracy: 0.2448 - val_loss: 1.9154 - val_accuracy: 0.2812\n",
      "Epoch 54/100\n",
      " 1/12 [=>............................] - ETA: 0s - loss: 1.9278 - accuracy: 0.2188\n",
      "Epoch 54: val_loss did not improve from 1.91479\n",
      "12/12 [==============================] - 0s 7ms/step - loss: 1.9114 - accuracy: 0.2396 - val_loss: 1.9154 - val_accuracy: 0.2812\n",
      "Epoch 55/100\n",
      " 1/12 [=>............................] - ETA: 0s - loss: 1.9832 - accuracy: 0.1875\n",
      "Epoch 55: val_loss did not improve from 1.91479\n",
      "12/12 [==============================] - 0s 7ms/step - loss: 1.9150 - accuracy: 0.2396 - val_loss: 1.9151 - val_accuracy: 0.2812\n",
      "Epoch 56/100\n",
      " 1/12 [=>............................] - ETA: 0s - loss: 1.9191 - accuracy: 0.2188\n",
      "Epoch 56: val_loss did not improve from 1.91479\n",
      "12/12 [==============================] - 0s 8ms/step - loss: 1.9105 - accuracy: 0.2422 - val_loss: 1.9152 - val_accuracy: 0.2812\n",
      "Epoch 57/100\n",
      " 1/12 [=>............................] - ETA: 0s - loss: 1.9464 - accuracy: 0.1562\n",
      "Epoch 57: val_loss did not improve from 1.91479\n",
      "12/12 [==============================] - 0s 8ms/step - loss: 1.9160 - accuracy: 0.2396 - val_loss: 1.9153 - val_accuracy: 0.2812\n",
      "Epoch 58/100\n",
      " 1/12 [=>............................] - ETA: 0s - loss: 1.9944 - accuracy: 0.1250\n",
      "Epoch 58: val_loss did not improve from 1.91479\n",
      "12/12 [==============================] - 0s 8ms/step - loss: 1.9092 - accuracy: 0.2422 - val_loss: 1.9153 - val_accuracy: 0.2812\n",
      "Epoch 59/100\n",
      " 1/12 [=>............................] - ETA: 0s - loss: 1.8763 - accuracy: 0.2812\n",
      "Epoch 59: val_loss did not improve from 1.91479\n",
      "12/12 [==============================] - 0s 8ms/step - loss: 1.9148 - accuracy: 0.2422 - val_loss: 1.9154 - val_accuracy: 0.2812\n",
      "Epoch 60/100\n",
      " 1/12 [=>............................] - ETA: 0s - loss: 1.9710 - accuracy: 0.1562\n",
      "Epoch 60: val_loss did not improve from 1.91479\n",
      "12/12 [==============================] - 0s 8ms/step - loss: 1.9102 - accuracy: 0.2396 - val_loss: 1.9154 - val_accuracy: 0.2812\n",
      "Epoch 61/100\n",
      " 1/12 [=>............................] - ETA: 0s - loss: 1.9524 - accuracy: 0.1562\n",
      "Epoch 61: val_loss did not improve from 1.91479\n",
      "12/12 [==============================] - 0s 8ms/step - loss: 1.9180 - accuracy: 0.2396 - val_loss: 1.9155 - val_accuracy: 0.2812\n",
      "Epoch 62/100\n",
      " 1/12 [=>............................] - ETA: 0s - loss: 1.9100 - accuracy: 0.2188\n",
      "Epoch 62: val_loss did not improve from 1.91479\n",
      "12/12 [==============================] - 0s 8ms/step - loss: 1.9029 - accuracy: 0.2448 - val_loss: 1.9154 - val_accuracy: 0.2812\n",
      "Epoch 63/100\n",
      " 1/12 [=>............................] - ETA: 0s - loss: 1.9583 - accuracy: 0.1562\n",
      "Epoch 63: val_loss did not improve from 1.91479\n",
      "12/12 [==============================] - 0s 8ms/step - loss: 1.9092 - accuracy: 0.2422 - val_loss: 1.9155 - val_accuracy: 0.2812\n",
      "Epoch 64/100\n",
      " 1/12 [=>............................] - ETA: 0s - loss: 1.8482 - accuracy: 0.3438\n",
      "Epoch 64: val_loss did not improve from 1.91479\n",
      "12/12 [==============================] - 0s 7ms/step - loss: 1.9079 - accuracy: 0.2422 - val_loss: 1.9155 - val_accuracy: 0.2812\n",
      "Epoch 65/100\n",
      " 1/12 [=>............................] - ETA: 0s - loss: 1.8595 - accuracy: 0.3125\n",
      "Epoch 65: val_loss did not improve from 1.91479\n",
      "12/12 [==============================] - 0s 7ms/step - loss: 1.9195 - accuracy: 0.2422 - val_loss: 1.9155 - val_accuracy: 0.2812\n",
      "Epoch 66/100\n",
      " 1/12 [=>............................] - ETA: 0s - loss: 1.8997 - accuracy: 0.2500\n",
      "Epoch 66: val_loss did not improve from 1.91479\n",
      "12/12 [==============================] - 0s 8ms/step - loss: 1.9097 - accuracy: 0.2422 - val_loss: 1.9154 - val_accuracy: 0.2812\n",
      "Epoch 67/100\n",
      " 1/12 [=>............................] - ETA: 0s - loss: 1.9224 - accuracy: 0.2188\n",
      "Epoch 67: val_loss did not improve from 1.91479\n",
      "12/12 [==============================] - 0s 8ms/step - loss: 1.9081 - accuracy: 0.2422 - val_loss: 1.9155 - val_accuracy: 0.2812\n",
      "Epoch 68/100\n",
      " 1/12 [=>............................] - ETA: 0s - loss: 1.8637 - accuracy: 0.3125\n",
      "Epoch 68: val_loss did not improve from 1.91479\n",
      "12/12 [==============================] - 0s 8ms/step - loss: 1.9234 - accuracy: 0.2448 - val_loss: 1.9155 - val_accuracy: 0.2812\n",
      "Epoch 69/100\n",
      " 1/12 [=>............................] - ETA: 0s - loss: 1.8718 - accuracy: 0.3125\n",
      "Epoch 69: val_loss did not improve from 1.91479\n",
      "12/12 [==============================] - 0s 8ms/step - loss: 1.9042 - accuracy: 0.2422 - val_loss: 1.9153 - val_accuracy: 0.2812\n",
      "Epoch 70/100\n",
      " 1/12 [=>............................] - ETA: 0s - loss: 1.8040 - accuracy: 0.4062\n",
      "Epoch 70: val_loss did not improve from 1.91479\n",
      "12/12 [==============================] - 0s 9ms/step - loss: 1.9123 - accuracy: 0.2422 - val_loss: 1.9153 - val_accuracy: 0.2812\n",
      "Epoch 71/100\n",
      " 1/12 [=>............................] - ETA: 0s - loss: 1.9016 - accuracy: 0.2812\n",
      "Epoch 71: val_loss did not improve from 1.91479\n",
      "12/12 [==============================] - 0s 8ms/step - loss: 1.9133 - accuracy: 0.2422 - val_loss: 1.9151 - val_accuracy: 0.2812\n",
      "Epoch 72/100\n",
      " 1/12 [=>............................] - ETA: 0s - loss: 1.9566 - accuracy: 0.1875\n",
      "Epoch 72: val_loss did not improve from 1.91479\n",
      "12/12 [==============================] - 0s 8ms/step - loss: 1.9112 - accuracy: 0.2396 - val_loss: 1.9154 - val_accuracy: 0.2812\n",
      "Epoch 73/100\n",
      " 1/12 [=>............................] - ETA: 0s - loss: 1.9518 - accuracy: 0.2188\n",
      "Epoch 73: val_loss did not improve from 1.91479\n",
      "12/12 [==============================] - 0s 7ms/step - loss: 1.9081 - accuracy: 0.2422 - val_loss: 1.9153 - val_accuracy: 0.2812\n",
      "Epoch 74/100\n",
      " 1/12 [=>............................] - ETA: 0s - loss: 1.9109 - accuracy: 0.2500\n",
      "Epoch 74: val_loss did not improve from 1.91479\n",
      "12/12 [==============================] - 0s 8ms/step - loss: 1.9092 - accuracy: 0.2422 - val_loss: 1.9153 - val_accuracy: 0.2812\n",
      "Epoch 75/100\n",
      " 1/12 [=>............................] - ETA: 0s - loss: 1.8439 - accuracy: 0.3125\n",
      "Epoch 75: val_loss did not improve from 1.91479\n",
      "12/12 [==============================] - 0s 8ms/step - loss: 1.9164 - accuracy: 0.2422 - val_loss: 1.9154 - val_accuracy: 0.2812\n",
      "Epoch 76/100\n",
      " 1/12 [=>............................] - ETA: 0s - loss: 1.9004 - accuracy: 0.2500\n",
      "Epoch 76: val_loss did not improve from 1.91479\n",
      "12/12 [==============================] - 0s 8ms/step - loss: 1.9091 - accuracy: 0.2396 - val_loss: 1.9154 - val_accuracy: 0.2812\n",
      "Epoch 77/100\n",
      " 1/12 [=>............................] - ETA: 0s - loss: 1.9410 - accuracy: 0.2188\n",
      "Epoch 77: val_loss did not improve from 1.91479\n",
      "12/12 [==============================] - 0s 8ms/step - loss: 1.9113 - accuracy: 0.2422 - val_loss: 1.9154 - val_accuracy: 0.2812\n",
      "Epoch 78/100\n",
      " 1/12 [=>............................] - ETA: 0s - loss: 1.9145 - accuracy: 0.2188\n",
      "Epoch 78: val_loss did not improve from 1.91479\n",
      "12/12 [==============================] - 0s 8ms/step - loss: 1.9080 - accuracy: 0.2422 - val_loss: 1.9154 - val_accuracy: 0.2812\n",
      "Epoch 79/100\n",
      "12/12 [==============================] - ETA: 0s - loss: 1.9112 - accuracy: 0.2422\n",
      "Epoch 79: val_loss did not improve from 1.91479\n",
      "12/12 [==============================] - 0s 9ms/step - loss: 1.9112 - accuracy: 0.2422 - val_loss: 1.9153 - val_accuracy: 0.2812\n",
      "Epoch 80/100\n",
      " 1/12 [=>............................] - ETA: 0s - loss: 1.8798 - accuracy: 0.2812\n",
      "Epoch 80: val_loss did not improve from 1.91479\n",
      "12/12 [==============================] - 0s 8ms/step - loss: 1.9081 - accuracy: 0.2396 - val_loss: 1.9153 - val_accuracy: 0.2812\n",
      "Epoch 81/100\n",
      " 1/12 [=>............................] - ETA: 0s - loss: 1.9276 - accuracy: 0.2188\n",
      "Epoch 81: val_loss did not improve from 1.91479\n",
      "12/12 [==============================] - 0s 8ms/step - loss: 1.9079 - accuracy: 0.2422 - val_loss: 1.9154 - val_accuracy: 0.2812\n",
      "Epoch 82/100\n",
      " 1/12 [=>............................] - ETA: 0s - loss: 1.8736 - accuracy: 0.2812\n",
      "Epoch 82: val_loss did not improve from 1.91479\n",
      "12/12 [==============================] - 0s 8ms/step - loss: 1.9089 - accuracy: 0.2396 - val_loss: 1.9153 - val_accuracy: 0.2812\n",
      "Epoch 83/100\n",
      " 1/12 [=>............................] - ETA: 0s - loss: 1.8099 - accuracy: 0.4062\n",
      "Epoch 83: val_loss did not improve from 1.91479\n",
      "12/12 [==============================] - 0s 8ms/step - loss: 1.9081 - accuracy: 0.2422 - val_loss: 1.9153 - val_accuracy: 0.2812\n",
      "Epoch 84/100\n",
      " 1/12 [=>............................] - ETA: 0s - loss: 1.9095 - accuracy: 0.2188\n",
      "Epoch 84: val_loss did not improve from 1.91479\n",
      "12/12 [==============================] - 0s 8ms/step - loss: 1.9077 - accuracy: 0.2422 - val_loss: 1.9153 - val_accuracy: 0.2812\n",
      "Epoch 85/100\n",
      " 1/12 [=>............................] - ETA: 0s - loss: 1.8699 - accuracy: 0.3125\n",
      "Epoch 85: val_loss did not improve from 1.91479\n",
      "12/12 [==============================] - 0s 7ms/step - loss: 1.9139 - accuracy: 0.2396 - val_loss: 1.9153 - val_accuracy: 0.2812\n",
      "Epoch 86/100\n",
      " 1/12 [=>............................] - ETA: 0s - loss: 1.8957 - accuracy: 0.2812\n",
      "Epoch 86: val_loss did not improve from 1.91479\n",
      "12/12 [==============================] - 0s 7ms/step - loss: 1.9152 - accuracy: 0.2396 - val_loss: 1.9154 - val_accuracy: 0.2812\n",
      "Epoch 87/100\n",
      " 1/12 [=>............................] - ETA: 0s - loss: 1.9319 - accuracy: 0.2188\n",
      "Epoch 87: val_loss did not improve from 1.91479\n",
      "12/12 [==============================] - 0s 8ms/step - loss: 1.9066 - accuracy: 0.2422 - val_loss: 1.9153 - val_accuracy: 0.2812\n",
      "Epoch 88/100\n",
      " 1/12 [=>............................] - ETA: 0s - loss: 1.9290 - accuracy: 0.2188\n",
      "Epoch 88: val_loss did not improve from 1.91479\n",
      "12/12 [==============================] - 0s 7ms/step - loss: 1.9058 - accuracy: 0.2422 - val_loss: 1.9152 - val_accuracy: 0.2812\n",
      "Epoch 89/100\n",
      " 1/12 [=>............................] - ETA: 0s - loss: 1.9175 - accuracy: 0.1875\n",
      "Epoch 89: val_loss did not improve from 1.91479\n",
      "12/12 [==============================] - 0s 7ms/step - loss: 1.9176 - accuracy: 0.2396 - val_loss: 1.9154 - val_accuracy: 0.2812\n",
      "Epoch 90/100\n",
      " 1/12 [=>............................] - ETA: 0s - loss: 1.9465 - accuracy: 0.3750\n",
      "Epoch 90: val_loss did not improve from 1.91479\n",
      "12/12 [==============================] - 0s 7ms/step - loss: 1.9167 - accuracy: 0.2422 - val_loss: 1.9153 - val_accuracy: 0.2812\n",
      "Epoch 91/100\n",
      " 1/12 [=>............................] - ETA: 0s - loss: 1.9782 - accuracy: 0.1562\n",
      "Epoch 91: val_loss did not improve from 1.91479\n",
      "12/12 [==============================] - 0s 7ms/step - loss: 1.9056 - accuracy: 0.2448 - val_loss: 1.9154 - val_accuracy: 0.2812\n",
      "Epoch 92/100\n",
      " 1/12 [=>............................] - ETA: 0s - loss: 2.0025 - accuracy: 0.1562\n",
      "Epoch 92: val_loss did not improve from 1.91479\n",
      "12/12 [==============================] - 0s 8ms/step - loss: 1.9147 - accuracy: 0.2396 - val_loss: 1.9153 - val_accuracy: 0.2812\n",
      "Epoch 93/100\n",
      " 1/12 [=>............................] - ETA: 0s - loss: 1.9368 - accuracy: 0.1875\n",
      "Epoch 93: val_loss did not improve from 1.91479\n",
      "12/12 [==============================] - 0s 6ms/step - loss: 1.9129 - accuracy: 0.2344 - val_loss: 1.9154 - val_accuracy: 0.2812\n",
      "Epoch 94/100\n",
      " 1/12 [=>............................] - ETA: 0s - loss: 1.9737 - accuracy: 0.1562\n",
      "Epoch 94: val_loss did not improve from 1.91479\n",
      "12/12 [==============================] - 0s 6ms/step - loss: 1.9052 - accuracy: 0.2448 - val_loss: 1.9153 - val_accuracy: 0.2812\n",
      "Epoch 95/100\n",
      " 1/12 [=>............................] - ETA: 0s - loss: 1.9714 - accuracy: 0.2812\n",
      "Epoch 95: val_loss did not improve from 1.91479\n",
      "12/12 [==============================] - 0s 7ms/step - loss: 1.9188 - accuracy: 0.2422 - val_loss: 1.9154 - val_accuracy: 0.2812\n",
      "Epoch 96/100\n",
      " 1/12 [=>............................] - ETA: 0s - loss: 1.9115 - accuracy: 0.2188\n",
      "Epoch 96: val_loss did not improve from 1.91479\n",
      "12/12 [==============================] - 0s 7ms/step - loss: 1.9091 - accuracy: 0.2422 - val_loss: 1.9154 - val_accuracy: 0.2812\n",
      "Epoch 97/100\n",
      " 1/12 [=>............................] - ETA: 0s - loss: 1.8977 - accuracy: 0.2500\n",
      "Epoch 97: val_loss did not improve from 1.91479\n",
      "12/12 [==============================] - 0s 6ms/step - loss: 1.9048 - accuracy: 0.2448 - val_loss: 1.9153 - val_accuracy: 0.2812\n",
      "Epoch 98/100\n",
      " 1/12 [=>............................] - ETA: 0s - loss: 1.9604 - accuracy: 0.1562\n",
      "Epoch 98: val_loss did not improve from 1.91479\n",
      "12/12 [==============================] - 0s 7ms/step - loss: 1.9085 - accuracy: 0.2422 - val_loss: 1.9153 - val_accuracy: 0.2812\n",
      "Epoch 99/100\n",
      " 1/12 [=>............................] - ETA: 0s - loss: 1.9119 - accuracy: 0.2812\n",
      "Epoch 99: val_loss did not improve from 1.91479\n",
      "12/12 [==============================] - 0s 6ms/step - loss: 1.9111 - accuracy: 0.2448 - val_loss: 1.9154 - val_accuracy: 0.2812\n",
      "Epoch 100/100\n",
      " 1/12 [=>............................] - ETA: 0s - loss: 1.9416 - accuracy: 0.2188\n",
      "Epoch 100: val_loss did not improve from 1.91479\n",
      "12/12 [==============================] - 0s 6ms/step - loss: 1.9136 - accuracy: 0.2396 - val_loss: 1.9154 - val_accuracy: 0.2812\n",
      "0:00:09.713932\n"
     ]
    }
   ],
   "source": [
    "#Train the model\n",
    "from tensorflow.keras.callbacks import ModelCheckpoint\n",
    "from datetime import datetime\n",
    "\n",
    "num_epochs=100\n",
    "num_batch_size=32\n",
    "\n",
    "checkpointer = ModelCheckpoint(filepath='audio_classification.hdf5',verbose=1,save_best_only=True)\n",
    "start = datetime.now()\n",
    "\n",
    "model.fit(X_train,y_train,batch_size = num_batch_size,epochs=num_epochs,validation_data=(X_test,y_test),callbacks=[checkpointer])\n",
    "\n",
    "duration = datetime.now()-start\n",
    "print(duration)"
   ]
  },
  {
   "cell_type": "code",
   "execution_count": 1,
   "id": "f61c23e6",
   "metadata": {
    "tags": []
   },
   "outputs": [
    {
     "ename": "NameError",
     "evalue": "name 'model' is not defined",
     "output_type": "error",
     "traceback": [
      "\u001b[1;31m---------------------------------------------------------------------------\u001b[0m",
      "\u001b[1;31mNameError\u001b[0m                                 Traceback (most recent call last)",
      "Cell \u001b[1;32mIn[1], line 1\u001b[0m\n\u001b[1;32m----> 1\u001b[0m test_accuracy\u001b[38;5;241m=\u001b[39m\u001b[43mmodel\u001b[49m\u001b[38;5;241m.\u001b[39mevaluate(X_test,y_test,verbose\u001b[38;5;241m=\u001b[39m\u001b[38;5;241m0\u001b[39m)\n\u001b[0;32m      2\u001b[0m \u001b[38;5;28mprint\u001b[39m(test_accuracy[\u001b[38;5;241m1\u001b[39m])\n",
      "\u001b[1;31mNameError\u001b[0m: name 'model' is not defined"
     ]
    }
   ],
   "source": [
    "test_accuracy=model.evaluate(X_test,y_test,verbose=0)\n",
    "print(test_accuracy[1])"
   ]
  },
  {
   "cell_type": "code",
   "execution_count": 96,
   "id": "01b10072",
   "metadata": {},
   "outputs": [
    {
     "name": "stdout",
     "output_type": "stream",
     "text": [
      "[-3.74283264e+02  3.94131279e+01 -9.88759899e+00  1.18739700e+01\n",
      " -2.55369358e+01  3.14078641e+00 -1.42294941e+01 -4.02754307e+00\n",
      " -1.84053879e+01  1.10972395e+01 -1.70926838e+01  1.02876158e+01\n",
      " -1.21843624e+01  9.11422157e+00 -1.39997685e+00  8.89123631e+00\n",
      "  4.32156610e+00  1.11725378e+01 -5.99298573e+00  4.65372992e+00\n",
      " -6.81645823e+00  5.95534945e+00 -3.78232551e+00  2.16879892e+00\n",
      " -5.68375111e+00  1.28894424e+00  2.19435245e-01  5.07014370e+00\n",
      "  5.35192728e+00  7.19116354e+00  6.44244289e+00  9.59870052e+00\n",
      "  2.57740712e+00  5.78621054e+00  5.41509295e+00  5.18991280e+00\n",
      "  4.77702332e+00  2.36393499e+00  1.55092990e+00  3.04772592e+00]\n",
      "[[-3.74283264e+02  3.94131279e+01 -9.88759899e+00  1.18739700e+01\n",
      "  -2.55369358e+01  3.14078641e+00 -1.42294941e+01 -4.02754307e+00\n",
      "  -1.84053879e+01  1.10972395e+01 -1.70926838e+01  1.02876158e+01\n",
      "  -1.21843624e+01  9.11422157e+00 -1.39997685e+00  8.89123631e+00\n",
      "   4.32156610e+00  1.11725378e+01 -5.99298573e+00  4.65372992e+00\n",
      "  -6.81645823e+00  5.95534945e+00 -3.78232551e+00  2.16879892e+00\n",
      "  -5.68375111e+00  1.28894424e+00  2.19435245e-01  5.07014370e+00\n",
      "   5.35192728e+00  7.19116354e+00  6.44244289e+00  9.59870052e+00\n",
      "   2.57740712e+00  5.78621054e+00  5.41509295e+00  5.18991280e+00\n",
      "   4.77702332e+00  2.36393499e+00  1.55092990e+00  3.04772592e+00]]\n",
      "(1, 40)\n",
      "1/1 [==============================] - 0s 35ms/step\n",
      "[4]\n"
     ]
    },
    {
     "data": {
      "text/plain": [
       "array(['neutral'], dtype='<U8')"
      ]
     },
     "execution_count": 96,
     "metadata": {},
     "output_type": "execute_result"
    }
   ],
   "source": [
    "filename = 'YAF_bite_ps.wav'\n",
    "audio, sample_rate = librosa.load(filename, res_type='kaiser_fast') \n",
    "mfccs_features = librosa.feature.mfcc(y=audio, sr=sample_rate, n_mfcc=40)\n",
    "mfccs_scaled_features = np.mean(mfccs_features.T,axis=0)\n",
    "\n",
    "print(mfccs_scaled_features)\n",
    "mfccs_scaled_features=mfccs_scaled_features.reshape(1,-1)\n",
    "print(mfccs_scaled_features)\n",
    "print(mfccs_scaled_features.shape)\n",
    "predicted_label=model.predict(mfccs_scaled_features)\n",
    "predicted_label=np.argmax(predicted_label,axis=-1)\n",
    "print(predicted_label)\n",
    "prediction_class = labelencoder.inverse_transform(predicted_label) \n",
    "prediction_class"
   ]
  },
  {
   "cell_type": "code",
   "execution_count": 63,
   "id": "2b2fc7e1",
   "metadata": {},
   "outputs": [
    {
     "data": {
      "text/plain": [
       "array([0], dtype=int64)"
      ]
     },
     "execution_count": 63,
     "metadata": {},
     "output_type": "execute_result"
    }
   ],
   "source": [
    "class_labels"
   ]
  }
 ],
 "metadata": {
  "kernelspec": {
   "display_name": "Python 3 (ipykernel)",
   "language": "python",
   "name": "python3"
  },
  "language_info": {
   "codemirror_mode": {
    "name": "ipython",
    "version": 3
   },
   "file_extension": ".py",
   "mimetype": "text/x-python",
   "name": "python",
   "nbconvert_exporter": "python",
   "pygments_lexer": "ipython3",
   "version": "3.11.4"
  }
 },
 "nbformat": 4,
 "nbformat_minor": 5
}
